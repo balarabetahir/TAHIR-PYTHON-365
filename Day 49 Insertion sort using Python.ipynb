{
 "cells": [
  {
   "cell_type": "code",
   "execution_count": 3,
   "id": "2172d816",
   "metadata": {},
   "outputs": [
    {
     "name": "stdout",
     "output_type": "stream",
     "text": [
      "Sorted List: [1, 2, 4, 5, 6, 7, 8, 9]\n"
     ]
    }
   ],
   "source": [
    "def insertionSort(List):\n",
    "    for i in range(1, len(List)):\n",
    "        currentNumber = List[i]\n",
    "        for j in range(i -1, -1, -1):\n",
    "            if List[j] > currentNumber :\n",
    "                List[j], List[j + 1] = List[j + 1], List[j]\n",
    "            else:\n",
    "                List[j + 1] = currentNumber\n",
    "                break\n",
    "    \n",
    "    return List \n",
    "\n",
    "if __name__== '__main__':\n",
    "    List = [8, 4, 2, 6, 5, 7, 1, 9]\n",
    "    print('Sorted List:',insertionSort(List))\n",
    "    \n",
    "    \n",
    "#Tahir365"
   ]
  },
  {
   "cell_type": "code",
   "execution_count": null,
   "id": "c6214e10",
   "metadata": {},
   "outputs": [],
   "source": []
  }
 ],
 "metadata": {
  "kernelspec": {
   "display_name": "Python 3 (ipykernel)",
   "language": "python",
   "name": "python3"
  },
  "language_info": {
   "codemirror_mode": {
    "name": "ipython",
    "version": 3
   },
   "file_extension": ".py",
   "mimetype": "text/x-python",
   "name": "python",
   "nbconvert_exporter": "python",
   "pygments_lexer": "ipython3",
   "version": "3.10.7"
  }
 },
 "nbformat": 4,
 "nbformat_minor": 5
}
