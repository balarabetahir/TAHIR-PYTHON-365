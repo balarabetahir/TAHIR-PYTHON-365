{
 "cells": [
  {
   "cell_type": "code",
   "execution_count": 2,
   "id": "3aca6b22",
   "metadata": {},
   "outputs": [
    {
     "data": {
      "text/plain": [
       "{'📚': 'books',\n",
       " '🇮🇳': 'flag: India',\n",
       " '🌹': 'rose',\n",
       " '❤️': 'red heart',\n",
       " '👶': 'baby',\n",
       " '🌺': 'hibiscus'}"
      ]
     },
     "execution_count": 2,
     "metadata": {},
     "output_type": "execute_result"
    }
   ],
   "source": [
    "import demoji \n",
    "\n",
    "text=\"🇮🇳 📚 ❤️ 🌺 🌹 👶\"\n",
    "demoji.findall(text)\n",
    "\n",
    "#Tahir365"
   ]
  },
  {
   "cell_type": "code",
   "execution_count": null,
   "id": "8eeac8bc",
   "metadata": {},
   "outputs": [],
   "source": []
  }
 ],
 "metadata": {
  "kernelspec": {
   "display_name": "Python 3 (ipykernel)",
   "language": "python",
   "name": "python3"
  },
  "language_info": {
   "codemirror_mode": {
    "name": "ipython",
    "version": 3
   },
   "file_extension": ".py",
   "mimetype": "text/x-python",
   "name": "python",
   "nbconvert_exporter": "python",
   "pygments_lexer": "ipython3",
   "version": "3.10.8"
  }
 },
 "nbformat": 4,
 "nbformat_minor": 5
}
