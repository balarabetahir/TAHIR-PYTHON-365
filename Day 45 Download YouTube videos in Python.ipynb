{
 "cells": [
  {
   "cell_type": "code",
   "execution_count": 3,
   "id": "558d4c8c",
   "metadata": {},
   "outputs": [
    {
     "name": "stdout",
     "output_type": "stream",
     "text": [
      "Enter video url: https://youtu.be/Ps2RB7bHrTY?list=PLeLGx0BaYD6Zr_3ReRhyZHLoO35uEVmcJ\n"
     ]
    },
    {
     "data": {
      "text/plain": [
       "'C:\\\\Users\\\\UseR\\\\Tahir 365 Python\\\\Day 45  Download YouTube videos in Python.mp4'"
      ]
     },
     "execution_count": 3,
     "metadata": {},
     "output_type": "execute_result"
    }
   ],
   "source": [
    "#import pytube library to download the vidoe\n",
    "import pytube\n",
    "\n",
    "#Ask for the url of video\n",
    "url = input(\"Enter video url: \")\n",
    "#we can take path as well, just uncomment the following line\n",
    "#path = input(\"Enter path of storage\")\n",
    "\n",
    "#specify the storage path of video\n",
    "path=\"C:\"\n",
    "\n",
    "#magic line to download the video\n",
    "pytube.YouTube(url).streams.get_highest_resolution().download(path)\n",
    "\n",
    "#Tahir365"
   ]
  },
  {
   "cell_type": "code",
   "execution_count": null,
   "id": "e17fea94",
   "metadata": {},
   "outputs": [],
   "source": []
  }
 ],
 "metadata": {
  "kernelspec": {
   "display_name": "Python 3 (ipykernel)",
   "language": "python",
   "name": "python3"
  },
  "language_info": {
   "codemirror_mode": {
    "name": "ipython",
    "version": 3
   },
   "file_extension": ".py",
   "mimetype": "text/x-python",
   "name": "python",
   "nbconvert_exporter": "python",
   "pygments_lexer": "ipython3",
   "version": "3.10.7"
  }
 },
 "nbformat": 4,
 "nbformat_minor": 5
}
