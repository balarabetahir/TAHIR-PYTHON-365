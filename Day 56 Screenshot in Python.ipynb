{
 "cells": [
  {
   "cell_type": "code",
   "execution_count": 1,
   "id": "cbdf39ed",
   "metadata": {},
   "outputs": [],
   "source": [
    "import pyautogui\n"
   ]
  },
  {
   "cell_type": "code",
   "execution_count": 2,
   "id": "d72a0da6",
   "metadata": {},
   "outputs": [],
   "source": [
    "myScreenshot=pyautogui.screenshot()\n"
   ]
  },
  {
   "cell_type": "code",
   "execution_count": 5,
   "id": "0b6e5d96",
   "metadata": {},
   "outputs": [],
   "source": [
    "myScreenshot.save(r'C:\\Users\\UseR\\Tahir 365 Python\\onlline.png')"
   ]
  },
  {
   "cell_type": "code",
   "execution_count": null,
   "id": "a8fc2093",
   "metadata": {},
   "outputs": [],
   "source": [
    "#Tahir365"
   ]
  }
 ],
 "metadata": {
  "kernelspec": {
   "display_name": "Python 3 (ipykernel)",
   "language": "python",
   "name": "python3"
  },
  "language_info": {
   "codemirror_mode": {
    "name": "ipython",
    "version": 3
   },
   "file_extension": ".py",
   "mimetype": "text/x-python",
   "name": "python",
   "nbconvert_exporter": "python",
   "pygments_lexer": "ipython3",
   "version": "3.10.7"
  }
 },
 "nbformat": 4,
 "nbformat_minor": 5
}
