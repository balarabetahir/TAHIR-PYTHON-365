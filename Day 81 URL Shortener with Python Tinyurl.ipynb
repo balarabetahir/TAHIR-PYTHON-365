{
 "cells": [
  {
   "cell_type": "code",
   "execution_count": 1,
   "id": "06a09ad7",
   "metadata": {},
   "outputs": [
    {
     "name": "stdout",
     "output_type": "stream",
     "text": [
      "Enter the URL to shorten: https://www.youtube.com/watch?v=vZNazSe_gCA&list=PLeLGx0BaYD6Zr_3ReRhyZHLoO35uEVmcJ&index=81\n",
      "The Shortened URL is: https://tinyurl.com/2gyojunt\n"
     ]
    }
   ],
   "source": [
    "import pyshorteners\n",
    "long_url = input(\"Enter the URL to shorten: \")\n",
    "\n",
    "##TinyURL shortener service\n",
    "type_tiny = pyshorteners.Shortener()\n",
    "short_url = type_tiny.tinyurl.short(long_url)\n",
    "\n",
    "print(\"The Shortened URL is: \" + short_url)\n",
    "\n",
    "#Tahir365"
   ]
  },
  {
   "cell_type": "code",
   "execution_count": null,
   "id": "c51a84d1",
   "metadata": {},
   "outputs": [],
   "source": []
  }
 ],
 "metadata": {
  "kernelspec": {
   "display_name": "Python 3 (ipykernel)",
   "language": "python",
   "name": "python3"
  },
  "language_info": {
   "codemirror_mode": {
    "name": "ipython",
    "version": 3
   },
   "file_extension": ".py",
   "mimetype": "text/x-python",
   "name": "python",
   "nbconvert_exporter": "python",
   "pygments_lexer": "ipython3",
   "version": "3.10.8"
  }
 },
 "nbformat": 4,
 "nbformat_minor": 5
}
