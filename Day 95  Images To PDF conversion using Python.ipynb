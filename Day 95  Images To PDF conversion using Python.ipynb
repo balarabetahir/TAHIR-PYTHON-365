{
 "cells": [
  {
   "cell_type": "code",
   "execution_count": 7,
   "id": "98eac335",
   "metadata": {},
   "outputs": [],
   "source": [
    "from PIL import Image\n",
    "\n",
    "def Images_Pdf(filename, output):\n",
    "    images = []\n",
    "    \n",
    "    for file in filename:\n",
    "        im = Image.open(file)\n",
    "        im = im.convert('RGB')\n",
    "        images.append(im)\n",
    "        \n",
    "        images[0].save(output, save_all=True, append_images=images[1:])\n",
    "        \n",
    "        #Tahir365\n",
    "        \n",
    "# Images Path, output pdf\n",
    "Images_Pdf([\"onlline_mirror.png\", \"onlline.png\", \"texttoimage.png\"],\"output.pdf\")"
   ]
  },
  {
   "cell_type": "code",
   "execution_count": null,
   "id": "c0e0d347",
   "metadata": {},
   "outputs": [],
   "source": []
  }
 ],
 "metadata": {
  "kernelspec": {
   "display_name": "Python 3 (ipykernel)",
   "language": "python",
   "name": "python3"
  },
  "language_info": {
   "codemirror_mode": {
    "name": "ipython",
    "version": 3
   },
   "file_extension": ".py",
   "mimetype": "text/x-python",
   "name": "python",
   "nbconvert_exporter": "python",
   "pygments_lexer": "ipython3",
   "version": "3.10.8"
  }
 },
 "nbformat": 4,
 "nbformat_minor": 5
}
