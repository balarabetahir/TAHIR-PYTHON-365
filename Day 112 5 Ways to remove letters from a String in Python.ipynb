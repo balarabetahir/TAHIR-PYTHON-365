{
 "cells": [
  {
   "cell_type": "code",
   "execution_count": 2,
   "id": "ca5351d9",
   "metadata": {},
   "outputs": [
    {
     "data": {
      "text/plain": [
       "'365'"
      ]
     },
     "execution_count": 2,
     "metadata": {},
     "output_type": "execute_result"
    }
   ],
   "source": [
    "#1st Method\n",
    "p='Tahir365'\n",
    "p.replace('Tahir', '') #Tahir365\n",
    "\n",
    "#2nd"
   ]
  },
  {
   "cell_type": "code",
   "execution_count": 3,
   "id": "d8f8719f",
   "metadata": {},
   "outputs": [
    {
     "data": {
      "text/plain": [
       "'Ta'"
      ]
     },
     "execution_count": 3,
     "metadata": {},
     "output_type": "execute_result"
    }
   ],
   "source": [
    "#2nd Method\n",
    "p='Tahir365'\n",
    "p[0:2] #Tahir365"
   ]
  },
  {
   "cell_type": "code",
   "execution_count": 5,
   "id": "951f74d6",
   "metadata": {},
   "outputs": [
    {
     "data": {
      "text/plain": [
       "'365'"
      ]
     },
     "execution_count": 5,
     "metadata": {},
     "output_type": "execute_result"
    }
   ],
   "source": [
    "#3rd Method\n",
    "p = 'Tahir365'\n",
    "p.partition('Tahir')[2] #Tahir 365"
   ]
  },
  {
   "cell_type": "code",
   "execution_count": 6,
   "id": "70ecef68",
   "metadata": {},
   "outputs": [
    {
     "data": {
      "text/plain": [
       "'Tahir365'"
      ]
     },
     "execution_count": 6,
     "metadata": {},
     "output_type": "execute_result"
    }
   ],
   "source": [
    "#4th Method\n",
    "import re\n",
    "p='Tahir365'\n",
    "re.sub(r'cl','',p)  #Tahir365"
   ]
  },
  {
   "cell_type": "markdown",
   "id": "449283b7",
   "metadata": {},
   "source": []
  },
  {
   "cell_type": "code",
   "execution_count": 7,
   "id": "f293480f",
   "metadata": {},
   "outputs": [
    {
     "data": {
      "text/plain": [
       "'365'"
      ]
     },
     "execution_count": 7,
     "metadata": {},
     "output_type": "execute_result"
    }
   ],
   "source": [
    "#5th Method\n",
    "p='Tahir365'\n",
    "p.strip('Tahir')#Tahir365"
   ]
  },
  {
   "cell_type": "code",
   "execution_count": null,
   "id": "eade26bd",
   "metadata": {},
   "outputs": [],
   "source": []
  }
 ],
 "metadata": {
  "kernelspec": {
   "display_name": "Python 3 (ipykernel)",
   "language": "python",
   "name": "python3"
  },
  "language_info": {
   "codemirror_mode": {
    "name": "ipython",
    "version": 3
   },
   "file_extension": ".py",
   "mimetype": "text/x-python",
   "name": "python",
   "nbconvert_exporter": "python",
   "pygments_lexer": "ipython3",
   "version": "3.10.8"
  }
 },
 "nbformat": 4,
 "nbformat_minor": 5
}
