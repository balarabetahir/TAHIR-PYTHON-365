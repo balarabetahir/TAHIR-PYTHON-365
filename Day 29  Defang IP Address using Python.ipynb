{
 "cells": [
  {
   "cell_type": "code",
   "execution_count": 2,
   "id": "3a047472",
   "metadata": {},
   "outputs": [
    {
     "name": "stdout",
     "output_type": "stream",
     "text": [
      "Enter your IP address : 192.192.98.28\n",
      "192[.]192[.]98[.]28\n"
     ]
    }
   ],
   "source": [
    "def ip_address(address):\n",
    "    new_address = \"\"\n",
    "    split_address = address.split(\".\")\n",
    "    separator = \"[.]\"\n",
    "    new_address = separator.join(split_address)\n",
    "    return new_address\n",
    "IPad=input(\"Enter your IP address : \")\n",
    "ipaddress = ip_address(IPad)\n",
    "print(ipaddress)\n",
    "\n",
    "#Tahir 365"
   ]
  },
  {
   "cell_type": "code",
   "execution_count": null,
   "id": "cdcaed4e",
   "metadata": {},
   "outputs": [],
   "source": []
  }
 ],
 "metadata": {
  "kernelspec": {
   "display_name": "Python 3 (ipykernel)",
   "language": "python",
   "name": "python3"
  },
  "language_info": {
   "codemirror_mode": {
    "name": "ipython",
    "version": 3
   },
   "file_extension": ".py",
   "mimetype": "text/x-python",
   "name": "python",
   "nbconvert_exporter": "python",
   "pygments_lexer": "ipython3",
   "version": "3.10.7"
  }
 },
 "nbformat": 4,
 "nbformat_minor": 5
}
