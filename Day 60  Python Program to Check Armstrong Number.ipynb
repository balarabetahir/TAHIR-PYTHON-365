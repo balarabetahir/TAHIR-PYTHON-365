{
 "cells": [
  {
   "cell_type": "code",
   "execution_count": 2,
   "id": "088e4a51",
   "metadata": {},
   "outputs": [
    {
     "name": "stdout",
     "output_type": "stream",
     "text": [
      "Enter a number:  371\n",
      "371 is an Armstrong number\n"
     ]
    }
   ],
   "source": [
    "# take input from the user\n",
    "num = int(input(\"Enter a number:  \"))\n",
    "\n",
    "# initalize sum\n",
    "sum = 0\n",
    "\n",
    "#find the sum of cube of each digit\n",
    "temp = num\n",
    "while temp > 0:\n",
    "    digit = temp % 10\n",
    "    sum += digit ** 3\n",
    "    temp //= 10\n",
    "\n",
    "#display the result\n",
    "if num == sum:\n",
    "   print(num, \"is an Armstrong number\")\n",
    "else:\n",
    "   print\n"
   ]
  },
  {
   "cell_type": "code",
   "execution_count": null,
   "id": "d90a42eb",
   "metadata": {},
   "outputs": [],
   "source": []
  }
 ],
 "metadata": {
  "kernelspec": {
   "display_name": "Python 3 (ipykernel)",
   "language": "python",
   "name": "python3"
  },
  "language_info": {
   "codemirror_mode": {
    "name": "ipython",
    "version": 3
   },
   "file_extension": ".py",
   "mimetype": "text/x-python",
   "name": "python",
   "nbconvert_exporter": "python",
   "pygments_lexer": "ipython3",
   "version": "3.10.8"
  }
 },
 "nbformat": 4,
 "nbformat_minor": 5
}
