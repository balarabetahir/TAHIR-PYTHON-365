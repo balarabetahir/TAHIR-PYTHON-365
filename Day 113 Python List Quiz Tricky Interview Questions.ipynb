{
 "cells": [
  {
   "cell_type": "code",
   "execution_count": 2,
   "id": "8f42aaf6",
   "metadata": {},
   "outputs": [
    {
     "name": "stdout",
     "output_type": "stream",
     "text": [
      "[4, 20, 24, 28]\n"
     ]
    }
   ],
   "source": [
    "#Questions 1\n",
    "aList = [4, 8, 12, 16]\n",
    "aList[1:4] = [20, 24, 28]\n",
    "print(aList)\n",
    "\n",
    "#A: [4, 20, 24, 28, 8, 12, 16]\n",
    "#B: [4, 20, 24, 28]"
   ]
  },
  {
   "cell_type": "code",
   "execution_count": 3,
   "id": "54ee3ec1",
   "metadata": {},
   "outputs": [
    {
     "name": "stdout",
     "output_type": "stream",
     "text": [
      "40\n"
     ]
    }
   ],
   "source": [
    "#Question 2\n",
    "sampleList = [10, 20, 30, 40, 50]\n",
    "print(sampleList[-2])"
   ]
  },
  {
   "cell_type": "code",
   "execution_count": 4,
   "id": "a835a0d2",
   "metadata": {},
   "outputs": [
    {
     "name": "stdout",
     "output_type": "stream",
     "text": [
      "[20, 30, 40]\n"
     ]
    }
   ],
   "source": [
    "#question 3\n",
    "sampleList = [10, 20, 30, 40, 50]\n",
    "print(sampleList[-4:-1])"
   ]
  },
  {
   "cell_type": "code",
   "execution_count": 14,
   "id": "e815ead1",
   "metadata": {},
   "outputs": [
    {
     "name": "stdout",
     "output_type": "stream",
     "text": [
      "10\n",
      "[None, None, None, None, None, None, None, None, None, None]\n"
     ]
    }
   ],
   "source": [
    "#question 4\n",
    "l = [None] * 10\n",
    "print(len(l))\n",
    "print(l)\n"
   ]
  },
  {
   "cell_type": "code",
   "execution_count": 8,
   "id": "cf647d45",
   "metadata": {},
   "outputs": [
    {
     "name": "stdout",
     "output_type": "stream",
     "text": [
      "Hello-Python\n"
     ]
    }
   ],
   "source": [
    "#question 5\n",
    "my_list = [\"Hello\", \"Python\"]\n",
    "print(\"-\".join(my_list))"
   ]
  },
  {
   "cell_type": "code",
   "execution_count": null,
   "id": "e9707e0c",
   "metadata": {},
   "outputs": [],
   "source": [
    "#question 7\n",
    "aList"
   ]
  }
 ],
 "metadata": {
  "kernelspec": {
   "display_name": "Python 3 (ipykernel)",
   "language": "python",
   "name": "python3"
  },
  "language_info": {
   "codemirror_mode": {
    "name": "ipython",
    "version": 3
   },
   "file_extension": ".py",
   "mimetype": "text/x-python",
   "name": "python",
   "nbconvert_exporter": "python",
   "pygments_lexer": "ipython3",
   "version": "3.10.8"
  }
 },
 "nbformat": 4,
 "nbformat_minor": 5
}
