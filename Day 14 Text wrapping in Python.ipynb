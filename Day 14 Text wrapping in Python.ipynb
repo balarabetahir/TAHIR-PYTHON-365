{
 "cells": [
  {
   "cell_type": "code",
   "execution_count": 6,
   "id": "2a7b860f",
   "metadata": {},
   "outputs": [
    {
     "name": "stdout",
     "output_type": "stream",
     "text": [
      "This function wraps the input paragraph such that each line\n",
      "in the paragraph is at most width characters long.The wrap\n",
      "method  returns a list of output lines . The returned list\n",
      "is empty if the wrapped output has no content.\n"
     ]
    }
   ],
   "source": [
    "import textwrap\n",
    "value =\"\"\"This function wraps the input paragraph such that each line\n",
    "in the paragraph is at most width characters long.The wrap method \n",
    "returns a list of output lines . The returned list \n",
    "is empty if the wrapped\n",
    "output has no content.\"\"\" \n",
    "\n",
    "\n",
    "# Wrap this text .\n",
    "wrapper = textwrap.TextWrapper(width =60)\n",
    "\n",
    "word_list = wrapper.wrap(text=value)\n",
    "\n",
    "# Print each Line .\n",
    "for element in word_list:\n",
    "    print(element)\n",
    "\n",
    "#Tahir 365"
   ]
  },
  {
   "cell_type": "code",
   "execution_count": null,
   "id": "ef1c4f33",
   "metadata": {},
   "outputs": [],
   "source": []
  }
 ],
 "metadata": {
  "kernelspec": {
   "display_name": "Python 3 (ipykernel)",
   "language": "python",
   "name": "python3"
  },
  "language_info": {
   "codemirror_mode": {
    "name": "ipython",
    "version": 3
   },
   "file_extension": ".py",
   "mimetype": "text/x-python",
   "name": "python",
   "nbconvert_exporter": "python",
   "pygments_lexer": "ipython3",
   "version": "3.10.7"
  }
 },
 "nbformat": 4,
 "nbformat_minor": 5
}
