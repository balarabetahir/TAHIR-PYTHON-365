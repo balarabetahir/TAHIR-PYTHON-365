{
 "cells": [
  {
   "cell_type": "code",
   "execution_count": 1,
   "id": "af64da96",
   "metadata": {},
   "outputs": [
    {
     "name": "stdout",
     "output_type": "stream",
     "text": [
      "First number: 5\n",
      "Second number: 5\n",
      "The sum of 5 and 5 is 10.0\n"
     ]
    }
   ],
   "source": [
    "# Python program to add two numbers\n",
    "\n",
    "number1 = input(\"First number: \")\n",
    "number2 = input(\"Second number: \")\n",
    "\n",
    "# Adding two numbers\n",
    "# User might also enter float numbers\n",
    "sum = float(number1) + float(number2)\n",
    "\n",
    "# Display the sum\n",
    "#will print the value in float\n",
    "print(\"The sum of {0} and {1} is {2}\" .format(number1, number2, sum))\n",
    "\n",
    "\n",
    "#Tahir365"
   ]
  },
  {
   "cell_type": "code",
   "execution_count": null,
   "id": "62e151d9",
   "metadata": {},
   "outputs": [],
   "source": []
  }
 ],
 "metadata": {
  "kernelspec": {
   "display_name": "Python 3 (ipykernel)",
   "language": "python",
   "name": "python3"
  },
  "language_info": {
   "codemirror_mode": {
    "name": "ipython",
    "version": 3
   },
   "file_extension": ".py",
   "mimetype": "text/x-python",
   "name": "python",
   "nbconvert_exporter": "python",
   "pygments_lexer": "ipython3",
   "version": "3.10.8"
  }
 },
 "nbformat": 4,
 "nbformat_minor": 5
}
