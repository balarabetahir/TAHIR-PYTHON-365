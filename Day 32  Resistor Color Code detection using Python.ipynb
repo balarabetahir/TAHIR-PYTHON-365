{
 "cells": [
  {
   "cell_type": "code",
   "execution_count": 6,
   "id": "4b9c27bc",
   "metadata": {},
   "outputs": [
    {
     "name": "stdout",
     "output_type": "stream",
     "text": [
      "Enter the 1st color :brown\n",
      "Enter the 2nd color :brown\n",
      "Enter the 3rd color :brown\n",
      "\n",
      "The Resister Value is :\n",
      "110Ω and in kiloohm : 0.11 kΩ\n"
     ]
    }
   ],
   "source": [
    "color=[\"black\", \"brown\", \"red\", \"orange\", \"yellow\",\n",
    "      \"green\", \"blue\", \"violet\", \"grey\", \"white\"]\n",
    "\n",
    "n=color.index((input(\"Enter the 1st color :\")))\n",
    "m=color.index((input(\"Enter the 2nd color :\")))\n",
    "p=color.index((input(\"Enter the 3rd color :\")))\n",
    "\n",
    "q=int(((n*10)+(m))*(10**(p)))\n",
    "z=q/1000\n",
    "#Tahir365\n",
    "print(\"\\nThe Resister Value is :\")\n",
    "print(f\"{q}Ω and in kiloohm : {z} kΩ\")"
   ]
  },
  {
   "cell_type": "code",
   "execution_count": null,
   "id": "00fdeb24",
   "metadata": {},
   "outputs": [],
   "source": []
  }
 ],
 "metadata": {
  "kernelspec": {
   "display_name": "Python 3 (ipykernel)",
   "language": "python",
   "name": "python3"
  },
  "language_info": {
   "codemirror_mode": {
    "name": "ipython",
    "version": 3
   },
   "file_extension": ".py",
   "mimetype": "text/x-python",
   "name": "python",
   "nbconvert_exporter": "python",
   "pygments_lexer": "ipython3",
   "version": "3.10.7"
  }
 },
 "nbformat": 4,
 "nbformat_minor": 5
}
