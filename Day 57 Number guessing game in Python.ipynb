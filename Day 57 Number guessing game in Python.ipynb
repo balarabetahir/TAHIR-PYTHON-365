{
 "cells": [
  {
   "cell_type": "code",
   "execution_count": 11,
   "id": "8de40027",
   "metadata": {},
   "outputs": [
    {
     "name": "stdout",
     "output_type": "stream",
     "text": [
      "Enter Lower bound:- 10\n",
      "Enter Upper bound:- 20\n",
      "\n",
      "\\You've only  3 chances to guess the integer\n",
      "\n",
      "Guess a number:- 12\n",
      "You Guessed too high!\n",
      "Guess a number:- 11\n",
      "Congratulations you did it in 2 try\n"
     ]
    }
   ],
   "source": [
    "import random\n",
    "import math\n",
    "lower = int(input(\"Enter Lower bound:- \"))\n",
    "upper = int(input(\"Enter Upper bound:- \"))\n",
    "# generating random number between the Lower ond upper\n",
    "x = random.randint(lower, upper)\n",
    "\n",
    "print(\"\\n\\You've only \",round(math.log(upper - lower + 1, 2)),\n",
    " \"chances to guess the integer\\n\")\n",
    "# Initializing the number of guesses.\n",
    "count = 0                   #Tahir365\n",
    "# for calculation of minimum number of guesses depends upon range\n",
    "while count < math.log(upper - lower + 1, 2):\n",
    "    count += 1\n",
    "    #taking guessing number as input\n",
    "    guess = int(input(\"Guess a number:- \"))\n",
    "    # Condition testing\n",
    "    if x == guess:\n",
    "        print(\"Congratulations you did it in\",count, \"try\")\n",
    "        break\n",
    "    elif x > guess:\n",
    "        print (\"You guessed too small!\")\n",
    "    elif x < guess:\n",
    "        print (\"You Guessed too high!\")\n",
    "# shows this output.\n",
    "if count >= math.log(upper - lower + 1, 2):\n",
    "    print(\"\\nthe number is %d\" % x)\n",
    "    print(\"\\tBetter Luck Next time!\")\n",
    "\n",
    " \n"
   ]
  },
  {
   "cell_type": "code",
   "execution_count": null,
   "id": "f9445b39",
   "metadata": {},
   "outputs": [],
   "source": []
  },
  {
   "cell_type": "code",
   "execution_count": null,
   "id": "3a5c97a6",
   "metadata": {},
   "outputs": [],
   "source": []
  }
 ],
 "metadata": {
  "kernelspec": {
   "display_name": "Python 3 (ipykernel)",
   "language": "python",
   "name": "python3"
  },
  "language_info": {
   "codemirror_mode": {
    "name": "ipython",
    "version": 3
   },
   "file_extension": ".py",
   "mimetype": "text/x-python",
   "name": "python",
   "nbconvert_exporter": "python",
   "pygments_lexer": "ipython3",
   "version": "3.10.7"
  }
 },
 "nbformat": 4,
 "nbformat_minor": 5
}
