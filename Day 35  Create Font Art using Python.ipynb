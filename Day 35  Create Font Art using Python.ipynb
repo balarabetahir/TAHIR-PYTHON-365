{
 "cells": [
  {
   "cell_type": "code",
   "execution_count": 2,
   "id": "04f2cdb3",
   "metadata": {},
   "outputs": [
    {
     "name": "stdout",
     "output_type": "stream",
     "text": [
      " _____     _     _        _____  __  ____    ____        _   _                 \n",
      "|_   _|_ _| |__ (_)_ __  |___ / / /_| ___|  |  _ \\ _   _| |_| |__   ___  _ __  \n",
      "  | |/ _` | '_ \\| | '__|   |_ \\| '_ \\___ \\  | |_) | | | | __| '_ \\ / _ \\| '_ \\ \n",
      "  | | (_| | | | | | |     ___) | (_) |__) | |  __/| |_| | |_| | | | (_) | | | |\n",
      "  |_|\\__,_|_| |_|_|_|    |____/ \\___/____/  |_|    \\__, |\\__|_| |_|\\___/|_| |_|\n",
      "                                                   |___/                       \n",
      "\n"
     ]
    }
   ],
   "source": [
    "import pyfiglet\n",
    "font = pyfiglet.figlet_format('Tahir 365 Python')\n",
    "print(font)\n",
    "\n",
    "\n",
    "#Tahir365"
   ]
  },
  {
   "cell_type": "code",
   "execution_count": null,
   "id": "d0018ab5",
   "metadata": {},
   "outputs": [],
   "source": []
  }
 ],
 "metadata": {
  "kernelspec": {
   "display_name": "Python 3 (ipykernel)",
   "language": "python",
   "name": "python3"
  },
  "language_info": {
   "codemirror_mode": {
    "name": "ipython",
    "version": 3
   },
   "file_extension": ".py",
   "mimetype": "text/x-python",
   "name": "python",
   "nbconvert_exporter": "python",
   "pygments_lexer": "ipython3",
   "version": "3.10.7"
  }
 },
 "nbformat": 4,
 "nbformat_minor": 5
}
