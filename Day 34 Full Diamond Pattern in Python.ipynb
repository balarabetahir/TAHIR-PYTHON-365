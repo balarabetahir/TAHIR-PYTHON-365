{
 "cells": [
  {
   "cell_type": "code",
   "execution_count": 3,
   "id": "0d6a8929",
   "metadata": {},
   "outputs": [
    {
     "name": "stdout",
     "output_type": "stream",
     "text": [
      "Enter Diamond Pattern Rows = 6\n",
      "Diamond Star Pattern\n",
      "     *\n",
      "     ***\n",
      "     *****\n",
      "     *******\n",
      "     *********\n",
      "     ***********\n",
      " *********\n",
      "  *******\n",
      "   *****\n",
      "    ***\n",
      "     *\n"
     ]
    }
   ],
   "source": [
    "rows = int(input(\"Enter Diamond Pattern Rows = \"))\n",
    "print(\"Diamond Star Pattern\")\n",
    "for i in range(1, rows + 1):\n",
    "    for j in range(1, rows -1 + 1):\n",
    "        print(end = ' ')\n",
    "    for k in range(0, 2 * i - 1):\n",
    "        print('*', end = '')\n",
    "    print()\n",
    "for i in range(1, rows):\n",
    "    for j in range(1, i + 1):\n",
    "        print(end = ' ')\n",
    "    for l in range(1, (2 * (rows  - i) )):\n",
    "        print('*', end = '')\n",
    "    print()\n",
    "    \n",
    "    \n",
    "#Tahir365"
   ]
  },
  {
   "cell_type": "code",
   "execution_count": null,
   "id": "a067fdc9",
   "metadata": {},
   "outputs": [],
   "source": []
  }
 ],
 "metadata": {
  "kernelspec": {
   "display_name": "Python 3 (ipykernel)",
   "language": "python",
   "name": "python3"
  },
  "language_info": {
   "codemirror_mode": {
    "name": "ipython",
    "version": 3
   },
   "file_extension": ".py",
   "mimetype": "text/x-python",
   "name": "python",
   "nbconvert_exporter": "python",
   "pygments_lexer": "ipython3",
   "version": "3.10.7"
  }
 },
 "nbformat": 4,
 "nbformat_minor": 5
}
