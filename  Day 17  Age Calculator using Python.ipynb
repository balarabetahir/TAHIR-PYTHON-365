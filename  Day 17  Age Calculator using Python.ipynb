{
 "cells": [
  {
   "cell_type": "code",
   "execution_count": 7,
   "id": "da8d9837",
   "metadata": {},
   "outputs": [
    {
     "name": "stdout",
     "output_type": "stream",
     "text": [
      "62\n"
     ]
    }
   ],
   "source": [
    "def ageCalculator( y , m , d ) :\n",
    "    import datetime\n",
    "    today = datetime.datetime.now( ).date( )\n",
    "    dob = datetime.date(y, m, d)\n",
    "    age = int ((today-dob).days / 365.25)\n",
    "    print(age)\n",
    "#y=year m=month d=day\n",
    "ageCalculator(1960, 8, 1)\n",
    "\n",
    "#Tahir 365"
   ]
  }
 ],
 "metadata": {
  "kernelspec": {
   "display_name": "Python 3 (ipykernel)",
   "language": "python",
   "name": "python3"
  },
  "language_info": {
   "codemirror_mode": {
    "name": "ipython",
    "version": 3
   },
   "file_extension": ".py",
   "mimetype": "text/x-python",
   "name": "python",
   "nbconvert_exporter": "python",
   "pygments_lexer": "ipython3",
   "version": "3.10.7"
  }
 },
 "nbformat": 4,
 "nbformat_minor": 5
}
