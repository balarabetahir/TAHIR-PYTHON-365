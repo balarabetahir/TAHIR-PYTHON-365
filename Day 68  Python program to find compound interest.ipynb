{
 "cells": [
  {
   "cell_type": "code",
   "execution_count": 1,
   "id": "74d7c57a",
   "metadata": {},
   "outputs": [
    {
     "name": "stdout",
     "output_type": "stream",
     "text": [
      "Enter Principle Value :  1000\n",
      "Enter Rate Value : 10.5\n",
      "Enter Time Value : 3\n",
      "Compund Interest is 349.23262499999987\n"
     ]
    }
   ],
   "source": [
    "# Python program to find compound interest \n",
    "\n",
    "def compound_interest(principle, rate, time):\n",
    "    \n",
    "    #Calaculates compound interest\n",
    "    Amount = principle * (pow((1 + rate / 100), time))\n",
    "    CI = Amount - principle\n",
    "    print(\"Compund Interest is\", CI) \n",
    "    \n",
    "P=float(input(\"Enter Principle Value :  \"))\n",
    "R=float(input(\"Enter Rate Value : \"))\n",
    "T=float(input(\"Enter Time Value : \"))\n",
    "compound_interest(P,R,T)\n",
    "\n",
    "#Tahir365"
   ]
  },
  {
   "cell_type": "code",
   "execution_count": null,
   "id": "5ab472a8",
   "metadata": {},
   "outputs": [],
   "source": []
  }
 ],
 "metadata": {
  "kernelspec": {
   "display_name": "Python 3 (ipykernel)",
   "language": "python",
   "name": "python3"
  },
  "language_info": {
   "codemirror_mode": {
    "name": "ipython",
    "version": 3
   },
   "file_extension": ".py",
   "mimetype": "text/x-python",
   "name": "python",
   "nbconvert_exporter": "python",
   "pygments_lexer": "ipython3",
   "version": "3.10.8"
  }
 },
 "nbformat": 4,
 "nbformat_minor": 5
}
