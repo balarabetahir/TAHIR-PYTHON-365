{
 "cells": [
  {
   "cell_type": "code",
   "execution_count": 1,
   "id": "d9dfac38",
   "metadata": {},
   "outputs": [
    {
     "name": "stdout",
     "output_type": "stream",
     "text": [
      " I know Python and its very easy for everyone \n"
     ]
    }
   ],
   "source": [
    "print ( \" I know Python and its very easy for everyone \" )"
   ]
  },
  {
   "cell_type": "code",
   "execution_count": 2,
   "id": "ad34a052",
   "metadata": {},
   "outputs": [
    {
     "ename": "SyntaxError",
     "evalue": "EOL while scanning string literal (3413568465.py, line 1)",
     "output_type": "error",
     "traceback": [
      "\u001b[1;36m  Input \u001b[1;32mIn [2]\u001b[1;36m\u001b[0m\n\u001b[1;33m    print ( \" I know Python and\u001b[0m\n\u001b[1;37m                               ^\u001b[0m\n\u001b[1;31mSyntaxError\u001b[0m\u001b[1;31m:\u001b[0m EOL while scanning string literal\n"
     ]
    }
   ],
   "source": [
    "print ( \" I know Python and\n",
    "its very easy for everyone \" )"
   ]
  },
  {
   "cell_type": "code",
   "execution_count": 3,
   "id": "b2a5a4e9",
   "metadata": {},
   "outputs": [
    {
     "name": "stdout",
     "output_type": "stream",
     "text": [
      " I know Python and its very easy for everyone \n"
     ]
    }
   ],
   "source": [
    "#In Python , a backslash ( \\ ) is a continuation character .\n",
    "print ( \" I know Python and \\\n",
    "its very easy for everyone \" )\n",
    "#Tahir365"
   ]
  },
  {
   "cell_type": "code",
   "execution_count": null,
   "id": "c391cfdf",
   "metadata": {},
   "outputs": [],
   "source": []
  }
 ],
 "metadata": {
  "kernelspec": {
   "display_name": "Python 3 (ipykernel)",
   "language": "python",
   "name": "python3"
  },
  "language_info": {
   "codemirror_mode": {
    "name": "ipython",
    "version": 3
   },
   "file_extension": ".py",
   "mimetype": "text/x-python",
   "name": "python",
   "nbconvert_exporter": "python",
   "pygments_lexer": "ipython3",
   "version": "3.9.12"
  }
 },
 "nbformat": 4,
 "nbformat_minor": 5
}
