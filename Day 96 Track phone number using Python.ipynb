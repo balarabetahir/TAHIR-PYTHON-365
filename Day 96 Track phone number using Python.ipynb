{
 "cells": [
  {
   "cell_type": "code",
   "execution_count": 7,
   "id": "cc53e8be",
   "metadata": {},
   "outputs": [
    {
     "name": "stdout",
     "output_type": "stream",
     "text": [
      "Enter the Phone Number: +441502717683\n",
      "Lowestoft\n"
     ]
    }
   ],
   "source": [
    "import phonenumbers\n",
    "\n",
    "#import geocoder\n",
    "from phonenumbers import geocoder\n",
    "\n",
    "#specify then phone number\n",
    "a = input(\"Enter the Phone Number: \")\n",
    "#Tahir365\n",
    "phonenumber = phonenumbers.parse(a)\n",
    "\n",
    "#display the location of phone number\n",
    "print(geocoder.description_for_number(phonenumber, 'en'))"
   ]
  },
  {
   "cell_type": "code",
   "execution_count": null,
   "id": "782ee8bb",
   "metadata": {},
   "outputs": [],
   "source": []
  }
 ],
 "metadata": {
  "kernelspec": {
   "display_name": "Python 3 (ipykernel)",
   "language": "python",
   "name": "python3"
  },
  "language_info": {
   "codemirror_mode": {
    "name": "ipython",
    "version": 3
   },
   "file_extension": ".py",
   "mimetype": "text/x-python",
   "name": "python",
   "nbconvert_exporter": "python",
   "pygments_lexer": "ipython3",
   "version": "3.10.8"
  }
 },
 "nbformat": 4,
 "nbformat_minor": 5
}
