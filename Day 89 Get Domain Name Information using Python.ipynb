{
 "cells": [
  {
   "cell_type": "code",
   "execution_count": 1,
   "id": "6fa48335",
   "metadata": {},
   "outputs": [
    {
     "name": "stdout",
     "output_type": "stream",
     "text": [
      "Enter your Domain : https://github.com/\n",
      "domain_name : ['GITHUB.COM', 'github.com']\n",
      "registrar : MarkMonitor, Inc.\n",
      "whois_server : whois.markmonitor.com\n",
      "referral_url : None\n",
      "updated_date : 2022-09-07 09:10:44\n",
      "creation_date : 2007-10-09 18:20:50\n",
      "expiration_date : [datetime.datetime(2024, 10, 9, 18, 20, 50), datetime.datetime(2024, 10, 9, 0, 0)]\n",
      "name_servers : ['DNS1.P08.NSONE.NET', 'DNS2.P08.NSONE.NET', 'DNS3.P08.NSONE.NET', 'DNS4.P08.NSONE.NET', 'NS-1283.AWSDNS-32.ORG', 'NS-1707.AWSDNS-21.CO.UK', 'NS-421.AWSDNS-52.COM', 'NS-520.AWSDNS-01.NET', 'dns1.p08.nsone.net', 'ns-1283.awsdns-32.org', 'dns3.p08.nsone.net', 'ns-520.awsdns-01.net', 'ns-1707.awsdns-21.co.uk', 'ns-421.awsdns-52.com', 'dns2.p08.nsone.net', 'dns4.p08.nsone.net']\n",
      "status : ['clientDeleteProhibited https://icann.org/epp#clientDeleteProhibited', 'clientTransferProhibited https://icann.org/epp#clientTransferProhibited', 'clientUpdateProhibited https://icann.org/epp#clientUpdateProhibited', 'clientUpdateProhibited (https://www.icann.org/epp#clientUpdateProhibited)', 'clientTransferProhibited (https://www.icann.org/epp#clientTransferProhibited)', 'clientDeleteProhibited (https://www.icann.org/epp#clientDeleteProhibited)']\n",
      "emails : ['abusecomplaints@markmonitor.com', 'whoisrequest@markmonitor.com']\n",
      "dnssec : unsigned\n",
      "name : None\n",
      "org : GitHub, Inc.\n",
      "address : None\n",
      "city : None\n",
      "state : CA\n",
      "registrant_postal_code : None\n",
      "country : US\n"
     ]
    }
   ],
   "source": [
    "import whois\n",
    "domain=input(\"Enter your Domain : \")\n",
    "domain_info = whois.whois(domain)\n",
    "for key, value in domain_info.items():\n",
    "    print(key, ':', value)"
   ]
  },
  {
   "cell_type": "code",
   "execution_count": null,
   "id": "dc5affbd",
   "metadata": {},
   "outputs": [],
   "source": []
  }
 ],
 "metadata": {
  "kernelspec": {
   "display_name": "Python 3 (ipykernel)",
   "language": "python",
   "name": "python3"
  },
  "language_info": {
   "codemirror_mode": {
    "name": "ipython",
    "version": 3
   },
   "file_extension": ".py",
   "mimetype": "text/x-python",
   "name": "python",
   "nbconvert_exporter": "python",
   "pygments_lexer": "ipython3",
   "version": "3.10.8"
  }
 },
 "nbformat": 4,
 "nbformat_minor": 5
}
