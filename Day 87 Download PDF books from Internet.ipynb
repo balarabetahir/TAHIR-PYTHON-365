{
 "cells": [
  {
   "cell_type": "code",
   "execution_count": 1,
   "id": "798a3e98",
   "metadata": {},
   "outputs": [
    {
     "name": "stdout",
     "output_type": "stream",
     "text": [
      "Enter link to Download PDF : https://www.google.co.uk/books/edition/Text_Segmentation_and_Recognition_for_En/Tr_2DwAAQBAJ?hl=en&gbpv=0\n",
      "Enter a Name for the PDF File : Tet\n"
     ]
    },
    {
     "data": {
      "text/plain": [
       "('Tet.pdf', <http.client.HTTPMessage at 0x1fd60123640>)"
      ]
     },
     "execution_count": 1,
     "metadata": {},
     "output_type": "execute_result"
    }
   ],
   "source": [
    "import urllib.request\n",
    "url=input(\"Enter link to Download PDF : \")\n",
    "Name=input(\"Enter a Name for the PDF File : \")\n",
    "FileName = Name+\".pdf\"\n",
    "urllib.request.urlretrieve(url,FileName)\n",
    "\n",
    "#Tahir365"
   ]
  },
  {
   "cell_type": "code",
   "execution_count": null,
   "id": "cc7ac588",
   "metadata": {},
   "outputs": [],
   "source": []
  }
 ],
 "metadata": {
  "kernelspec": {
   "display_name": "Python 3 (ipykernel)",
   "language": "python",
   "name": "python3"
  },
  "language_info": {
   "codemirror_mode": {
    "name": "ipython",
    "version": 3
   },
   "file_extension": ".py",
   "mimetype": "text/x-python",
   "name": "python",
   "nbconvert_exporter": "python",
   "pygments_lexer": "ipython3",
   "version": "3.10.8"
  }
 },
 "nbformat": 4,
 "nbformat_minor": 5
}
