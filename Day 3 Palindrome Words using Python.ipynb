{
 "cells": [
  {
   "cell_type": "code",
   "execution_count": 6,
   "id": "218cff30",
   "metadata": {},
   "outputs": [
    {
     "name": "stdout",
     "output_type": "stream",
     "text": [
      "Enter a sentence : Dad Support me alot lol\n",
      "['dad', 'lol']\n"
     ]
    }
   ],
   "source": [
    "def palindrome (sentence):\n",
    "    for i in (\",.'?/><}{{}}'\"):\n",
    "        sentence = sentence.replace (i, \"\")\n",
    "    palindrome = [ ]\n",
    "    words = sentence.split(' ')\n",
    "    for word in words:\n",
    "        word = word.lower()\n",
    "        if word == word[::-1]:\n",
    "            palindrome.append(word)\n",
    "    return palindrome\n",
    "sentence = input(\"Enter a sentence : \")\n",
    "print (palindrome(sentence))\n",
    "#Tahir 365"
   ]
  },
  {
   "cell_type": "code",
   "execution_count": null,
   "id": "03e8bc7f",
   "metadata": {},
   "outputs": [],
   "source": []
  }
 ],
 "metadata": {
  "kernelspec": {
   "display_name": "Python 3 (ipykernel)",
   "language": "python",
   "name": "python3"
  },
  "language_info": {
   "codemirror_mode": {
    "name": "ipython",
    "version": 3
   },
   "file_extension": ".py",
   "mimetype": "text/x-python",
   "name": "python",
   "nbconvert_exporter": "python",
   "pygments_lexer": "ipython3",
   "version": "3.9.12"
  }
 },
 "nbformat": 4,
 "nbformat_minor": 5
}
