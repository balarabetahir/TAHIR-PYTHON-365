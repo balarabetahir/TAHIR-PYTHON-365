{
 "cells": [
  {
   "cell_type": "code",
   "execution_count": 4,
   "id": "d8a928dc",
   "metadata": {},
   "outputs": [
    {
     "name": "stdout",
     "output_type": "stream",
     "text": [
      "               Company       Listed  Founded            Revenue  \\\n",
      "0  3i Infotech Limited  BSE: 532628     1993     US$239 million   \n",
      "1     HCL Technologies  BSE: 532281     1976    US$5.36 billion   \n",
      "2              Infosys  BSE: 500209     1981    US$8.24 billion   \n",
      "3    KPIT Technologies  BSE: 532400     1990  US$444.32 million   \n",
      "4               Mastek  BSE: 523704     1982  US$150.43 million   \n",
      "\n",
      "                 Profit Headcount Reference  \n",
      "0  US$84 million (2014)      9000       [1]  \n",
      "1                   NaN    197777       [2]  \n",
      "2       US$1.75 billion    169638       [3]  \n",
      "3                   NaN     10291       [4]  \n",
      "4       US$8.37 million      3352       [5]  \n"
     ]
    }
   ],
   "source": [
    "import urllib.request\n",
    "import pandas as pd \n",
    "\n",
    "#List of publicly listed software companies of India\n",
    "url = \"https://en.wikipedia.org/wiki/List_of_publicly_listed_software_companies_of_India\"\n",
    "\n",
    "with urllib.request.urlopen(url) as i:\n",
    "    html = i.read()\n",
    "    \n",
    "data = pd.read_html(html)[0]\n",
    "print(data.head())\n",
    "\n",
    "#Tahir365"
   ]
  },
  {
   "cell_type": "code",
   "execution_count": null,
   "id": "fd90594e",
   "metadata": {},
   "outputs": [],
   "source": []
  }
 ],
 "metadata": {
  "kernelspec": {
   "display_name": "Python 3 (ipykernel)",
   "language": "python",
   "name": "python3"
  },
  "language_info": {
   "codemirror_mode": {
    "name": "ipython",
    "version": 3
   },
   "file_extension": ".py",
   "mimetype": "text/x-python",
   "name": "python",
   "nbconvert_exporter": "python",
   "pygments_lexer": "ipython3",
   "version": "3.10.7"
  }
 },
 "nbformat": 4,
 "nbformat_minor": 5
}
