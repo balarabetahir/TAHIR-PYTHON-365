{
 "cells": [
  {
   "cell_type": "code",
   "execution_count": 1,
   "id": "468336f8",
   "metadata": {},
   "outputs": [
    {
     "name": "stdout",
     "output_type": "stream",
     "text": [
      "True\n"
     ]
    }
   ],
   "source": [
    "#Guess the output in this case?\n",
    "print(all([]))"
   ]
  },
  {
   "cell_type": "code",
   "execution_count": 3,
   "id": "dfb597d2",
   "metadata": {},
   "outputs": [
    {
     "name": "stdout",
     "output_type": "stream",
     "text": [
      "False\n"
     ]
    }
   ],
   "source": [
    "#Guess the output in this case?\n",
    "print(any([]))"
   ]
  },
  {
   "cell_type": "code",
   "execution_count": 5,
   "id": "fa7002b1",
   "metadata": {},
   "outputs": [],
   "source": [
    "#Function all() is a little complicated,\n",
    "#since it represents the concept of vacuous truth.\n",
    "#Like with chained lazy logical operators,\n",
    "#the algorithm is to look for the first false element,\n",
    "#and if none were found then return True.\n",
    "#Since there are no false elements in an empty sequence, print(all([])) prints True."
   ]
  },
  {
   "cell_type": "code",
   "execution_count": null,
   "id": "492bbbeb",
   "metadata": {},
   "outputs": [],
   "source": [
    "#In function any(), it will return True if any element of the iterable is true.\n",
    "#Logical operators in Python are lazy! The algorithm looks for the first\n",
    "#occurrence of a true element and, if none were found, returns False,\n",
    "#Since the sequence is empty, there are no elements that can be true,\n",
    "#therefore print(any([1))prints False."
   ]
  }
 ],
 "metadata": {
  "kernelspec": {
   "display_name": "Python 3 (ipykernel)",
   "language": "python",
   "name": "python3"
  },
  "language_info": {
   "codemirror_mode": {
    "name": "ipython",
    "version": 3
   },
   "file_extension": ".py",
   "mimetype": "text/x-python",
   "name": "python",
   "nbconvert_exporter": "python",
   "pygments_lexer": "ipython3",
   "version": "3.10.8"
  }
 },
 "nbformat": 4,
 "nbformat_minor": 5
}
