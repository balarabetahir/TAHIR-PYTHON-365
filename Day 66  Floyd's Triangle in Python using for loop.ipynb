{
 "cells": [
  {
   "cell_type": "code",
   "execution_count": 4,
   "id": "bf3b967d",
   "metadata": {},
   "outputs": [
    {
     "name": "stdout",
     "output_type": "stream",
     "text": [
      "Enter the Number of Rows: 7\n",
      "1 \n",
      "2 3 \n",
      "4 5 6 \n",
      "7 8 9 10 \n",
      "11 12 13 14 15 \n",
      "16 17 18 19 20 21 \n",
      "22 23 24 25 26 27 28 \n"
     ]
    }
   ],
   "source": [
    "print(\"Enter the Number of Rows: \", end=\"\")\n",
    "row = int(input())\n",
    "\n",
    "num = 1\n",
    "for i in range(row):\n",
    "    for j in range(i+1):\n",
    "        print(num, end=\" \")\n",
    "        num = num+1\n",
    "    print()\n",
    "    \n",
    "#Tahir365"
   ]
  },
  {
   "cell_type": "code",
   "execution_count": null,
   "id": "15b1f1e2",
   "metadata": {},
   "outputs": [],
   "source": []
  }
 ],
 "metadata": {
  "kernelspec": {
   "display_name": "Python 3 (ipykernel)",
   "language": "python",
   "name": "python3"
  },
  "language_info": {
   "codemirror_mode": {
    "name": "ipython",
    "version": 3
   },
   "file_extension": ".py",
   "mimetype": "text/x-python",
   "name": "python",
   "nbconvert_exporter": "python",
   "pygments_lexer": "ipython3",
   "version": "3.10.8"
  }
 },
 "nbformat": 4,
 "nbformat_minor": 5
}
