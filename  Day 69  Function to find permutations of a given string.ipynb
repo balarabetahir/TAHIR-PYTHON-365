{
 "cells": [
  {
   "cell_type": "code",
   "execution_count": 2,
   "id": "aff17c41",
   "metadata": {},
   "outputs": [
    {
     "name": "stdout",
     "output_type": "stream",
     "text": [
      "Enter your string : CAT\n",
      "CAT\n",
      "CTA\n",
      "ACT\n",
      "ATC\n",
      "TCA\n",
      "TAC\n"
     ]
    }
   ],
   "source": [
    "# Function to find permutation of a given string\n",
    "from itertools import permutations\n",
    "def allPermutations(str):\n",
    "    # Get all permutations of string 'ABC'\n",
    "    permList = permutations(str)\n",
    "    \n",
    "    # print all permutations\n",
    "    for perm in list(permList):\n",
    "      print (''.join(perm))\n",
    "    \n",
    "# Driver program\n",
    "if __name__ == \"__main__\":\n",
    "    str = input(\"Enter your string : \")\n",
    "    allPermutations(str)\n",
    "#Tahir365"
   ]
  },
  {
   "cell_type": "code",
   "execution_count": null,
   "id": "86003979",
   "metadata": {},
   "outputs": [],
   "source": []
  }
 ],
 "metadata": {
  "kernelspec": {
   "display_name": "Python 3 (ipykernel)",
   "language": "python",
   "name": "python3"
  },
  "language_info": {
   "codemirror_mode": {
    "name": "ipython",
    "version": 3
   },
   "file_extension": ".py",
   "mimetype": "text/x-python",
   "name": "python",
   "nbconvert_exporter": "python",
   "pygments_lexer": "ipython3",
   "version": "3.10.8"
  }
 },
 "nbformat": 4,
 "nbformat_minor": 5
}
