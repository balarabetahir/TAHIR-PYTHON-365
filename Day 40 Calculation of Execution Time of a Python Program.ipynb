{
 "cells": [
  {
   "cell_type": "code",
   "execution_count": 2,
   "id": "57c701ae",
   "metadata": {},
   "outputs": [
    {
     "name": "stdout",
     "output_type": "stream",
     "text": [
      "Enter your Email: tahirgroot@gamil.com\n",
      "Your user name is  tahirgroot  and your domain is gamil.com\n",
      "Execution Time (s) :  13.240974426269531\n"
     ]
    }
   ],
   "source": [
    "from time import time\n",
    "start = time()\n",
    "\n",
    "#code start \n",
    "email = input(\"Enter your Email: \")\n",
    "email=email.strip()\n",
    "slicer_index=email.index(\"@\")\n",
    "username = email[:slicer_index]\n",
    "domain_name = email[slicer_index+1:]\n",
    "print(\"Your user name is \",username,\" and your domain is\", domain_name)\n",
    "\n",
    "\n",
    "#code end \n",
    "\n",
    "#Tahir365\n",
    "\n",
    "end = time()\n",
    "execution_time = end - start \n",
    "print(\"Execution Time (s) : \", execution_time)\n"
   ]
  },
  {
   "cell_type": "code",
   "execution_count": null,
   "id": "f2cdfbd8",
   "metadata": {},
   "outputs": [],
   "source": []
  }
 ],
 "metadata": {
  "kernelspec": {
   "display_name": "Python 3 (ipykernel)",
   "language": "python",
   "name": "python3"
  },
  "language_info": {
   "codemirror_mode": {
    "name": "ipython",
    "version": 3
   },
   "file_extension": ".py",
   "mimetype": "text/x-python",
   "name": "python",
   "nbconvert_exporter": "python",
   "pygments_lexer": "ipython3",
   "version": "3.10.7"
  }
 },
 "nbformat": 4,
 "nbformat_minor": 5
}
