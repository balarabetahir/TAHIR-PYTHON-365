{
 "cells": [
  {
   "cell_type": "code",
   "execution_count": 2,
   "id": "b43a9303",
   "metadata": {},
   "outputs": [
    {
     "name": "stdout",
     "output_type": "stream",
     "text": [
      "['python']\n",
      "['python', 'python']\n",
      "['python', 'python', 'python']\n"
     ]
    }
   ],
   "source": [
    "def func(default_arg=[]):\n",
    "    default_arg.append(\"python\")\n",
    "    return default_arg\n",
    "print(func())\n",
    "print(func())\n",
    "print(func())\n",
    "\n",
    "#Tahir365\n",
    "                       "
   ]
  },
  {
   "cell_type": "code",
   "execution_count": null,
   "id": "ff23c8e2",
   "metadata": {},
   "outputs": [],
   "source": [
    "\"\"\"\"A default argument is a mutable object like 'list' in our\n",
    "case, Python creates it when you define\n",
    "the function, and not every time you invoke it."
   ]
  }
 ],
 "metadata": {
  "kernelspec": {
   "display_name": "Python 3 (ipykernel)",
   "language": "python",
   "name": "python3"
  },
  "language_info": {
   "codemirror_mode": {
    "name": "ipython",
    "version": 3
   },
   "file_extension": ".py",
   "mimetype": "text/x-python",
   "name": "python",
   "nbconvert_exporter": "python",
   "pygments_lexer": "ipython3",
   "version": "3.10.8"
  }
 },
 "nbformat": 4,
 "nbformat_minor": 5
}
