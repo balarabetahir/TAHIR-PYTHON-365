{
 "cells": [
  {
   "cell_type": "code",
   "execution_count": 1,
   "id": "ab510507",
   "metadata": {},
   "outputs": [
    {
     "name": "stdout",
     "output_type": "stream",
     "text": [
      "Enter a no to check all smaller prime numbers :15\n",
      "2\n",
      "3\n",
      "5\n",
      "7\n",
      "11\n",
      "13\n"
     ]
    }
   ],
   "source": [
    "def SieveofEratosthenes(n):\n",
    "    primes = [True] * (n + 1)\n",
    "    p = 2                   # because p is the smallest prime\n",
    "    while(p * p <= n):\n",
    "        #if p is not marked as False, this is a prime\n",
    "        if(primes[p]) == True:\n",
    "            # mark all the multiples of number as False\n",
    "            for i in range(p * 2, n + 1, p):\n",
    "                primes[i] = False\n",
    "        p += 1\n",
    "    # printing all primes\n",
    "    for i in range(2, n):\n",
    "        if primes[i]:\n",
    "            print(i)\n",
    "if __name__ == '__main__':\n",
    "    n=int(input(\"Enter a no to check all smaller prime numbers :\"))\n",
    "    SieveofEratosthenes(n)\n",
    "    #Tahir365"
   ]
  },
  {
   "cell_type": "code",
   "execution_count": null,
   "id": "bec4593d",
   "metadata": {},
   "outputs": [],
   "source": []
  }
 ],
 "metadata": {
  "kernelspec": {
   "display_name": "Python 3 (ipykernel)",
   "language": "python",
   "name": "python3"
  },
  "language_info": {
   "codemirror_mode": {
    "name": "ipython",
    "version": 3
   },
   "file_extension": ".py",
   "mimetype": "text/x-python",
   "name": "python",
   "nbconvert_exporter": "python",
   "pygments_lexer": "ipython3",
   "version": "3.10.7"
  }
 },
 "nbformat": 4,
 "nbformat_minor": 5
}
