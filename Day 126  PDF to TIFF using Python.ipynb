{
 "cells": [
  {
   "cell_type": "code",
   "execution_count": 3,
   "id": "f4b2a08a",
   "metadata": {},
   "outputs": [
    {
     "data": {
      "text/plain": [
       "<aspose.words.saving.SaveOutputParameters object at 0x0000017D4CD09D90>"
      ]
     },
     "execution_count": 3,
     "metadata": {},
     "output_type": "execute_result"
    }
   ],
   "source": [
    "import aspose.words as aw\n",
    "\n",
    "#Load the PDF document from the disc\n",
    "doc = aw.Document(\"BAT.pdf\")\n",
    "\n",
    "# Save the document to tiff format\n",
    "doc.save(\"BAT.tiff\")"
   ]
  },
  {
   "cell_type": "code",
   "execution_count": null,
   "id": "7b9f1457",
   "metadata": {},
   "outputs": [],
   "source": []
  }
 ],
 "metadata": {
  "kernelspec": {
   "display_name": "Python 3 (ipykernel)",
   "language": "python",
   "name": "python3"
  },
  "language_info": {
   "codemirror_mode": {
    "name": "ipython",
    "version": 3
   },
   "file_extension": ".py",
   "mimetype": "text/x-python",
   "name": "python",
   "nbconvert_exporter": "python",
   "pygments_lexer": "ipython3",
   "version": "3.10.8"
  }
 },
 "nbformat": 4,
 "nbformat_minor": 5
}
