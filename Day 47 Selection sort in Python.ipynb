{
 "cells": [
  {
   "cell_type": "code",
   "execution_count": 28,
   "id": "69d4377c",
   "metadata": {},
   "outputs": [
    {
     "name": "stdout",
     "output_type": "stream",
     "text": [
      "Sorted List: [1, 2, 3, 4, 5, 6, 7, 8, 9]\n"
     ]
    }
   ],
   "source": [
    "def selectionSort(List):\n",
    "    for i in range(len(List) - 1): #For iterating n-1 times\n",
    "        minimum = i\n",
    "        for j in range( i + 1, len(List)): #compare i and i + 1 element\n",
    "            if(List[j] < List[minimum]):\n",
    "                minimum = j\n",
    "        if(minimum != i):\n",
    "            List[i], List[minimum] = List[minimum], List[i]\n",
    "    return List\n",
    "    \n",
    "if __name__ == '__main__': \n",
    "    List = [3, 4, 2, 6, 5, 7, 1, 9, 8]\n",
    "    print('Sorted List:',selectionSort(List))\n",
    "\n",
    "#Tahir365"
   ]
  },
  {
   "cell_type": "code",
   "execution_count": null,
   "id": "63a88075",
   "metadata": {},
   "outputs": [],
   "source": []
  }
 ],
 "metadata": {
  "kernelspec": {
   "display_name": "Python 3 (ipykernel)",
   "language": "python",
   "name": "python3"
  },
  "language_info": {
   "codemirror_mode": {
    "name": "ipython",
    "version": 3
   },
   "file_extension": ".py",
   "mimetype": "text/x-python",
   "name": "python",
   "nbconvert_exporter": "python",
   "pygments_lexer": "ipython3",
   "version": "3.10.7"
  }
 },
 "nbformat": 4,
 "nbformat_minor": 5
}
