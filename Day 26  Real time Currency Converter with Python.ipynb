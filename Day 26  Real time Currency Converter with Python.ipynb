{
 "cells": [
  {
   "cell_type": "code",
   "execution_count": 3,
   "id": "894408f8",
   "metadata": {},
   "outputs": [
    {
     "name": "stdout",
     "output_type": "stream",
     "text": [
      "Enter the amount: 100\n",
      "From Currency: USD\n",
      "To Currency: GBP\n",
      "USD  To  GBP 100\n",
      "88.23475887170154\n"
     ]
    }
   ],
   "source": [
    "from forex_python.converter import CurrencyRates\n",
    "c = CurrencyRates()\n",
    "amount = int(input(\"Enter the amount: \"))\n",
    "from_currency = input(\"From Currency: \").upper()\n",
    "to_currency = input(\"To Currency: \"). upper()\n",
    "print(from_currency, \" To \", to_currency, amount)\n",
    "result = c.convert(from_currency, to_currency, amount)\n",
    "print(result)\n",
    "\n",
    "#Tahir365"
   ]
  },
  {
   "cell_type": "code",
   "execution_count": null,
   "id": "04242023",
   "metadata": {},
   "outputs": [],
   "source": []
  }
 ],
 "metadata": {
  "kernelspec": {
   "display_name": "Python 3 (ipykernel)",
   "language": "python",
   "name": "python3"
  },
  "language_info": {
   "codemirror_mode": {
    "name": "ipython",
    "version": 3
   },
   "file_extension": ".py",
   "mimetype": "text/x-python",
   "name": "python",
   "nbconvert_exporter": "python",
   "pygments_lexer": "ipython3",
   "version": "3.10.7"
  }
 },
 "nbformat": 4,
 "nbformat_minor": 5
}
