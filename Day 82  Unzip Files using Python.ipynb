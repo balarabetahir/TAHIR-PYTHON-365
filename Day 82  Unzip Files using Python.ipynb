{
 "cells": [
  {
   "cell_type": "code",
   "execution_count": 3,
   "id": "3b7a3cf2",
   "metadata": {},
   "outputs": [
    {
     "name": "stdout",
     "output_type": "stream",
     "text": [
      "['BAT.pdf']\n"
     ]
    }
   ],
   "source": [
    "from zipfile import ZipFile\n",
    "\n",
    "with ZipFile('BAT.zip', 'r') as zip_object:\n",
    "    zip_object.extractall()\n",
    "    \n",
    "#List of files that are archieved in the ZIP file\n",
    "print(zip_object.namelist())\n",
    "\n",
    "#Tahir365"
   ]
  },
  {
   "cell_type": "code",
   "execution_count": null,
   "id": "fde69d49",
   "metadata": {},
   "outputs": [],
   "source": []
  }
 ],
 "metadata": {
  "kernelspec": {
   "display_name": "Python 3 (ipykernel)",
   "language": "python",
   "name": "python3"
  },
  "language_info": {
   "codemirror_mode": {
    "name": "ipython",
    "version": 3
   },
   "file_extension": ".py",
   "mimetype": "text/x-python",
   "name": "python",
   "nbconvert_exporter": "python",
   "pygments_lexer": "ipython3",
   "version": "3.10.8"
  }
 },
 "nbformat": 4,
 "nbformat_minor": 5
}
