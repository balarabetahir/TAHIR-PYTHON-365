{
 "cells": [
  {
   "cell_type": "code",
   "execution_count": 4,
   "id": "158028e7",
   "metadata": {},
   "outputs": [
    {
     "ename": "error",
     "evalue": "OpenCV(4.6.0) D:\\a\\opencv-python\\opencv-python\\opencv\\modules\\highgui\\src\\window.cpp:967: error: (-215:Assertion failed) size.width>0 && size.height>0 in function 'cv::imshow'\n",
     "output_type": "error",
     "traceback": [
      "\u001b[1;31m---------------------------------------------------------------------------\u001b[0m",
      "\u001b[1;31merror\u001b[0m                                     Traceback (most recent call last)",
      "Cell \u001b[1;32mIn [4], line 10\u001b[0m\n\u001b[0;32m      6\u001b[0m window_name \u001b[38;5;241m=\u001b[39m \u001b[38;5;124m'\u001b[39m\u001b[38;5;124mOriginal image\u001b[39m\u001b[38;5;124m'\u001b[39m\n\u001b[0;32m      9\u001b[0m \u001b[38;5;66;03m# Displaying the original image\u001b[39;00m\n\u001b[1;32m---> 10\u001b[0m cv2\u001b[38;5;241m.\u001b[39mimshow(window_name, image1)\n\u001b[0;32m     12\u001b[0m \u001b[38;5;66;03m# convert the image from one color space to another\u001b[39;00m\n\u001b[0;32m     13\u001b[0m grey_img \u001b[38;5;241m=\u001b[39m cv2\u001b[38;5;241m.\u001b[39mcvtColor(image, cv2\u001b[38;5;241m.\u001b[39mCOLOR_BGR2GRAY)\n",
      "\u001b[1;31merror\u001b[0m: OpenCV(4.6.0) D:\\a\\opencv-python\\opencv-python\\opencv\\modules\\highgui\\src\\window.cpp:967: error: (-215:Assertion failed) size.width>0 && size.height>0 in function 'cv::imshow'\n"
     ]
    }
   ],
   "source": [
    "#................Convert image to pencil sketch........../\n",
    "import cv2\n",
    "\n",
    "#specify the path to image (loading image image)\n",
    "image1 = cv2.imread('C:\\pythonlogo.png')\n",
    "window_name = 'Original image'\n",
    "\n",
    "\n",
    "# Displaying the original image\n",
    "cv2.imshow(window_name, image1)\n",
    "\n",
    "# convert the image from one color space to another\n",
    "grey_img = cv2.cvtColor(image, cv2.COLOR_BGR2GRAY)\n",
    "invert = cv2.bitwise_not(grey_img)\n",
    "\n",
    "#image smoothing\n",
    "blur = cv2.GaussianBlur(invert, (21, 21), 0)\n",
    "invertedblur = cv2.bitwise_not(blur)\n",
    "sketch = cv2.divide(grey_img, invertdblur, scale=256.0)\n",
    "\n",
    "#save the converted image to specified path\n",
    "cv2.imwrite(\"C:\\sketch.png\" , sktech)\n",
    "\n",
    "#Reading an image in default mode\n",
    "image = cv2.imread(\"'C:\\sketch.png\")\n",
    "\n",
    "#window name in which image is displayed\n",
    "window_name = 'Sketch image'\n",
    "\n",
    "#Displaying the sketch image\n",
    "cv2.imshow(window_name, image)\n",
    "#waits for user to press any key\n",
    "#(this is necessary to avoid pyhton kernel from crashing)\n",
    "cv2.waitkey(0)\n",
    "\n",
    "#closing all open windows\n",
    "cv2.destroyAllWindows()\n",
    "\n"
   ]
  },
  {
   "cell_type": "code",
   "execution_count": null,
   "id": "1df284cc",
   "metadata": {},
   "outputs": [],
   "source": []
  }
 ],
 "metadata": {
  "kernelspec": {
   "display_name": "Python 3 (ipykernel)",
   "language": "python",
   "name": "python3"
  },
  "language_info": {
   "codemirror_mode": {
    "name": "ipython",
    "version": 3
   },
   "file_extension": ".py",
   "mimetype": "text/x-python",
   "name": "python",
   "nbconvert_exporter": "python",
   "pygments_lexer": "ipython3",
   "version": "3.10.7"
  }
 },
 "nbformat": 4,
 "nbformat_minor": 5
}
