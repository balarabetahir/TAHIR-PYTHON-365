{
 "cells": [
  {
   "cell_type": "code",
   "execution_count": null,
   "id": "b4f21d25",
   "metadata": {},
   "outputs": [],
   "source": [
    "from bs4 import BeautifulSoup\n",
    "import requests\n",
    "headers = {'User-Agent':'Mozilla/5.0 (Windows NT 10.0; Win64; x64 )\\\n",
    "           Applewebkit/537.36 (KHTML, like Gecko) \\\n",
    "           Chrome/58.0.3029.110 Safari/537.3'}\n",
    "def weather(city):\n",
    "    city=city.replace(\" \",\"+\")\n",
    "    res = requests.get(f'https://www.google.com/search?q={city}\\\n",
    "    &oq={city}&aqs=chrome.0.35i3912j014j46j69i60.6128j1j7&sourceid=\\\n",
    "                        chrome&ie=UTF-8',headers=headers)\n",
    "    print(\"Searching...... \\n\")\n",
    "    soup = BeautifulSoup(res.text,'html.parser')\n",
    "    location = soup.select('#wob_loc')[0].getText().strip()\n",
    "    time = soup.select('#wob_dts')[0].getText().strip()\n",
    "    info = soup.select('#wob_dc')[0].getText().strip()\n",
    "    weather = soup.select('#wob_tm')[0].getText().strip()\n",
    "    print(location)\n",
    "    print(time)\n",
    "    print(info)\n",
    "    print(weather+\"°C\")\n",
    "city=input(\"Enter the Name of Any City >>\")\n",
    "city=city+\" weather\"\n",
    "weather(city)\n",
    "#Tahir 365"
   ]
  },
  {
   "cell_type": "code",
   "execution_count": null,
   "id": "ecfc3a03",
   "metadata": {},
   "outputs": [],
   "source": []
  }
 ],
 "metadata": {
  "kernelspec": {
   "display_name": "Python 3 (ipykernel)",
   "language": "python",
   "name": "python3"
  },
  "language_info": {
   "codemirror_mode": {
    "name": "ipython",
    "version": 3
   },
   "file_extension": ".py",
   "mimetype": "text/x-python",
   "name": "python",
   "nbconvert_exporter": "python",
   "pygments_lexer": "ipython3",
   "version": "3.10.7"
  }
 },
 "nbformat": 4,
 "nbformat_minor": 5
}
