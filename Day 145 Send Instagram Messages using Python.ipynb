{
 "cells": [
  {
   "cell_type": "code",
   "execution_count": 4,
   "id": "82e33d03",
   "metadata": {},
   "outputs": [
    {
     "name": "stderr",
     "output_type": "stream",
     "text": [
      "2022-10-27 19:20:15,182 - INFO - Instabot version: 0.117.0 Started\n",
      "2022-10-27 19:20:15,182 - INFO - Instabot version: 0.117.0 Started\n",
      "2022-10-27 19:20:15,182 - INFO - Instabot version: 0.117.0 Started\n",
      "2022-10-27 19:20:15,182 - INFO - Instabot version: 0.117.0 Started\n",
      "2022-10-27 19:20:15,190 - INFO - Not yet logged in starting: PRE-LOGIN FLOW!\n",
      "2022-10-27 19:20:15,190 - INFO - Not yet logged in starting: PRE-LOGIN FLOW!\n",
      "2022-10-27 19:20:15,190 - INFO - Not yet logged in starting: PRE-LOGIN FLOW!\n",
      "2022-10-27 19:20:15,190 - INFO - Not yet logged in starting: PRE-LOGIN FLOW!\n",
      "2022-10-27 19:20:17,740 - ERROR - Request returns 400 error!\n",
      "2022-10-27 19:20:17,740 - ERROR - Request returns 400 error!\n",
      "2022-10-27 19:20:17,740 - ERROR - Request returns 400 error!\n",
      "2022-10-27 19:20:17,740 - ERROR - Request returns 400 error!\n",
      "2022-10-27 19:20:17,740 - INFO - Instagram's error message: The password you entered is incorrect. Please try again.\n",
      "2022-10-27 19:20:17,740 - INFO - Instagram's error message: The password you entered is incorrect. Please try again.\n",
      "2022-10-27 19:20:17,740 - INFO - Instagram's error message: The password you entered is incorrect. Please try again.\n",
      "2022-10-27 19:20:17,740 - INFO - Instagram's error message: The password you entered is incorrect. Please try again.\n",
      "2022-10-27 19:20:17,759 - INFO - Error type: bad_password\n",
      "2022-10-27 19:20:17,759 - INFO - Error type: bad_password\n",
      "2022-10-27 19:20:17,759 - INFO - Error type: bad_password\n",
      "2022-10-27 19:20:17,759 - INFO - Error type: bad_password\n",
      "2022-10-27 19:20:17,759 - ERROR - Failed to login go to instagram and change your password\n",
      "2022-10-27 19:20:17,759 - ERROR - Failed to login go to instagram and change your password\n",
      "2022-10-27 19:20:17,759 - ERROR - Failed to login go to instagram and change your password\n",
      "2022-10-27 19:20:17,759 - ERROR - Failed to login go to instagram and change your password\n",
      "2022-10-27 19:20:17,759 - INFO - Username or password is incorrect.\n",
      "2022-10-27 19:20:17,759 - INFO - Username or password is incorrect.\n",
      "2022-10-27 19:20:17,759 - INFO - Username or password is incorrect.\n",
      "2022-10-27 19:20:17,759 - INFO - Username or password is incorrect.\n"
     ]
    },
    {
     "ename": "SystemExit",
     "evalue": "",
     "output_type": "error",
     "traceback": [
      "An exception has occurred, use %tb to see the full traceback.\n",
      "\u001b[1;31mSystemExit\u001b[0m\n"
     ]
    }
   ],
   "source": [
    "from instabot import Bot\n",
    "bot = Bot()\n",
    "\n",
    "bot.login(username=\"Your Username\", password=\"Your Password\")\n",
    "bot.send_message(\"Hi Brother\", [\"Receiver's Username\"])"
   ]
  },
  {
   "cell_type": "code",
   "execution_count": null,
   "id": "6a59ad2d",
   "metadata": {},
   "outputs": [],
   "source": []
  }
 ],
 "metadata": {
  "kernelspec": {
   "display_name": "Python 3 (ipykernel)",
   "language": "python",
   "name": "python3"
  },
  "language_info": {
   "codemirror_mode": {
    "name": "ipython",
    "version": 3
   },
   "file_extension": ".py",
   "mimetype": "text/x-python",
   "name": "python",
   "nbconvert_exporter": "python",
   "pygments_lexer": "ipython3",
   "version": "3.10.8"
  }
 },
 "nbformat": 4,
 "nbformat_minor": 5
}
