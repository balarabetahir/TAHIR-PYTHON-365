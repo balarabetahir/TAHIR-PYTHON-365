{
 "cells": [
  {
   "cell_type": "code",
   "execution_count": null,
   "id": "dc5dfcce",
   "metadata": {},
   "outputs": [],
   "source": [
    "#import the library pyautogui\n",
    "import pyautogui\n",
    "\n",
    "#imports the time library\n",
    "import time\n",
    "\n",
    "#run the next lines of code while the state is set as \"True\"\n",
    "while True:\n",
    "    #move your cursor 10 pixels\n",
    "    pyautogui.moveRel(0, 10)\n",
    "    #pauses your code from running for 2 seconds\n",
    "    time.sleep(2)\n",
    "    \n",
    "#Tahir365"
   ]
  },
  {
   "cell_type": "code",
   "execution_count": null,
   "id": "37dca325",
   "metadata": {},
   "outputs": [],
   "source": []
  }
 ],
 "metadata": {
  "kernelspec": {
   "display_name": "Python 3 (ipykernel)",
   "language": "python",
   "name": "python3"
  },
  "language_info": {
   "codemirror_mode": {
    "name": "ipython",
    "version": 3
   },
   "file_extension": ".py",
   "mimetype": "text/x-python",
   "name": "python",
   "nbconvert_exporter": "python",
   "pygments_lexer": "ipython3",
   "version": "3.10.8"
  }
 },
 "nbformat": 4,
 "nbformat_minor": 5
}
