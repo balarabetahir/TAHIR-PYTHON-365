{
 "cells": [
  {
   "cell_type": "code",
   "execution_count": 6,
   "id": "efb2ffb4",
   "metadata": {},
   "outputs": [
    {
     "name": "stdout",
     "output_type": "stream",
     "text": [
      "\u001b[1A\n",
      "\u001b[2k\n"
     ]
    }
   ],
   "source": [
    "a = \"\\033[1A\"\n",
    "b = \"\\x1b[2k\"\n",
    "print(a)\n",
    "print(b)\n",
    "\n",
    "#Tahir365"
   ]
  },
  {
   "cell_type": "code",
   "execution_count": null,
   "id": "fed52273",
   "metadata": {},
   "outputs": [],
   "source": [
    "\"\"\"\"The\"\"\\033[1A\" escapes character moves our cursor\n",
    "up by 1 line, and the \"\\x1b[2k\" character clears\n",
    "the entire current line. If we print them together,\n",
    "we can essentially 'unprint'\n",
    "an entire line in our terminal\"\"\""
   ]
  }
 ],
 "metadata": {
  "kernelspec": {
   "display_name": "Python 3 (ipykernel)",
   "language": "python",
   "name": "python3"
  },
  "language_info": {
   "codemirror_mode": {
    "name": "ipython",
    "version": 3
   },
   "file_extension": ".py",
   "mimetype": "text/x-python",
   "name": "python",
   "nbconvert_exporter": "python",
   "pygments_lexer": "ipython3",
   "version": "3.10.8"
  }
 },
 "nbformat": 4,
 "nbformat_minor": 5
}
