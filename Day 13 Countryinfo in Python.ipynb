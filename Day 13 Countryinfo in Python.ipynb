{
 "cells": [
  {
   "cell_type": "code",
   "execution_count": 1,
   "id": "9fbb2c40",
   "metadata": {},
   "outputs": [
    {
     "name": "stdout",
     "output_type": "stream",
     "text": [
      "Requirement already satisfied: countryinfo in c:\\users\\user\\appdata\\local\\packages\\pythonsoftwarefoundation.python.3.10_qbz5n2kfra8p0\\localcache\\local-packages\\python310\\site-packages (0.1.2)\n",
      "Note: you may need to restart the kernel to use updated packages.\n"
     ]
    }
   ],
   "source": [
    "pip install countryinfo"
   ]
  },
  {
   "cell_type": "code",
   "execution_count": 1,
   "id": "634eaa4d",
   "metadata": {},
   "outputs": [
    {
     "name": "stdout",
     "output_type": "stream",
     "text": [
      "Enter your country : Nigeria\n",
      "Capital is :  Abuja\n",
      "Currencies is: ['NGN']\n",
      "Lanuage is :  ['en']\n",
      "Borders are :  ['BEN', 'CMR', 'TCD', 'NER']\n",
      "Others names :  ['NG', 'Nijeriya', 'Naíjíríà', 'Federal Republic of Nigeria']\n"
     ]
    }
   ],
   "source": [
    "from countryinfo import CountryInfo\n",
    "count=input(\"Enter your country : \")\n",
    "country = CountryInfo(count)\n",
    "print(\"Capital is : \",country.capital())\n",
    "print(\"Currencies is:\",country.currencies())\n",
    "print(\"Lanuage is : \",country.languages())\n",
    "print(\"Borders are : \",country.borders())\n",
    "print(\"Others names : \",country.alt_spellings())\n",
    "\n",
    "#Tahir 365"
   ]
  },
  {
   "cell_type": "code",
   "execution_count": null,
   "id": "80512057",
   "metadata": {},
   "outputs": [],
   "source": []
  }
 ],
 "metadata": {
  "kernelspec": {
   "display_name": "Python 3 (ipykernel)",
   "language": "python",
   "name": "python3"
  },
  "language_info": {
   "codemirror_mode": {
    "name": "ipython",
    "version": 3
   },
   "file_extension": ".py",
   "mimetype": "text/x-python",
   "name": "python",
   "nbconvert_exporter": "python",
   "pygments_lexer": "ipython3",
   "version": "3.10.7"
  }
 },
 "nbformat": 4,
 "nbformat_minor": 5
}
