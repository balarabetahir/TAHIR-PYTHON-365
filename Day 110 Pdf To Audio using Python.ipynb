{
 "cells": [
  {
   "cell_type": "code",
   "execution_count": null,
   "id": "836a78c9",
   "metadata": {},
   "outputs": [
    {
     "name": "stderr",
     "output_type": "stream",
     "text": [
      "Superfluous whitespace found in object header b'1' b'0'\n",
      "Superfluous whitespace found in object header b'2' b'0'\n",
      "Superfluous whitespace found in object header b'3' b'0'\n",
      "Superfluous whitespace found in object header b'22' b'0'\n",
      "Superfluous whitespace found in object header b'25' b'0'\n",
      "Superfluous whitespace found in object header b'28' b'0'\n",
      "Superfluous whitespace found in object header b'31' b'0'\n",
      "Superfluous whitespace found in object header b'34' b'0'\n",
      "Superfluous whitespace found in object header b'21' b'0'\n",
      "Superfluous whitespace found in object header b'11' b'0'\n",
      "Superfluous whitespace found in object header b'10' b'0'\n",
      "Superfluous whitespace found in object header b'9' b'0'\n",
      "Superfluous whitespace found in object header b'19' b'0'\n",
      "Superfluous whitespace found in object header b'18' b'0'\n",
      "Superfluous whitespace found in object header b'17' b'0'\n",
      "Superfluous whitespace found in object header b'20' b'0'\n"
     ]
    }
   ],
   "source": [
    "# importing the modules\n",
    "import PyPDF2, pyttsx3\n",
    "\n",
    "# PDF file\n",
    "path = open('TA.pdf', 'rb')\n",
    "\n",
    "# creating a PdfFileReader object\n",
    "pdfReader = PyPDF2.PdfFileReader(path)\n",
    "\n",
    "# Got an engine instance for the speech synthesis\n",
    "speak = pyttsx3.init()\n",
    "\n",
    "for pages in range(pdfReader.numPages):\n",
    "    text = pdfReader.getPage(pages).extractText()\n",
    "    speak.say(text)\n",
    "    speak.runAndWait()\n",
    "    \n",
    "speak.stop()\n",
    "#Tahir365"
   ]
  },
  {
   "cell_type": "code",
   "execution_count": null,
   "id": "68e0f3c8",
   "metadata": {},
   "outputs": [],
   "source": []
  }
 ],
 "metadata": {
  "kernelspec": {
   "display_name": "Python 3 (ipykernel)",
   "language": "python",
   "name": "python3"
  },
  "language_info": {
   "codemirror_mode": {
    "name": "ipython",
    "version": 3
   },
   "file_extension": ".py",
   "mimetype": "text/x-python",
   "name": "python",
   "nbconvert_exporter": "python",
   "pygments_lexer": "ipython3",
   "version": "3.10.8"
  }
 },
 "nbformat": 4,
 "nbformat_minor": 5
}
