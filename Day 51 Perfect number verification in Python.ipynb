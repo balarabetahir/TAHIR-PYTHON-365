{
 "cells": [
  {
   "cell_type": "code",
   "execution_count": null,
   "id": "b723aa14",
   "metadata": {},
   "outputs": [],
   "source": [
    "#perfect number, a positive integer that is equal to the sum of its proper divisors \n",
    "#The smallest perfect number is 6, which is the sum of 1, 2, and 3.\n",
    "#Other perfect numbers are 28, 496, and 8,128"
   ]
  },
  {
   "cell_type": "code",
   "execution_count": 5,
   "id": "f89ef2de",
   "metadata": {},
   "outputs": [
    {
     "name": "stdout",
     "output_type": "stream",
     "text": [
      "Enter a number to check : 28\n",
      "True\n"
     ]
    }
   ],
   "source": [
    "def perfectNumber(number):\n",
    "    sum = 0\n",
    "    for x in range(1, number):\n",
    "        if number % x == 0:\n",
    "            sum += x\n",
    "    return sum == number\n",
    "\n",
    "\n",
    "if __name__ == '__main__':\n",
    "    \n",
    "    n=int(input(\"Enter a number to check : \"))\n",
    "    print(perfectNumber(n))\n",
    "    \n",
    "#Tahir365"
   ]
  },
  {
   "cell_type": "code",
   "execution_count": null,
   "id": "9f095514",
   "metadata": {},
   "outputs": [],
   "source": []
  }
 ],
 "metadata": {
  "kernelspec": {
   "display_name": "Python 3 (ipykernel)",
   "language": "python",
   "name": "python3"
  },
  "language_info": {
   "codemirror_mode": {
    "name": "ipython",
    "version": 3
   },
   "file_extension": ".py",
   "mimetype": "text/x-python",
   "name": "python",
   "nbconvert_exporter": "python",
   "pygments_lexer": "ipython3",
   "version": "3.10.7"
  }
 },
 "nbformat": 4,
 "nbformat_minor": 5
}
