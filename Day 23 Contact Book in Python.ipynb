{
 "cells": [
  {
   "cell_type": "code",
   "execution_count": 4,
   "id": "24d61506",
   "metadata": {},
   "outputs": [
    {
     "name": "stdout",
     "output_type": "stream",
     "text": [
      "Enter no of contact you want to save : 3\n",
      "Name: a\n",
      "Phone Number: 0123456789\n",
      "Name: 0987654321\n",
      "Phone Number: c\n",
      "Name: c\n",
      "Phone Number: 9098765\n",
      "\n",
      "Name\t\t\tPhone Number\n",
      "\n",
      "a\t\t\t0123456789\n",
      "0987654321\t\t\tc\n",
      "c\t\t\t9098765\n",
      "\n",
      "Enter search term: a\n",
      "Search result\n",
      "Name: a, Phone Nmber: 0123456789\n"
     ]
    }
   ],
   "source": [
    "names = []\n",
    "phone_numbers = []\n",
    "num = int(input(\"Enter no of contact you want to save : \"))\n",
    "for i in range(num):\n",
    "    name = input(\"Name: \")\n",
    "    phone_number = input(\"Phone Number: \")\n",
    "    names.append(name)\n",
    "    phone_numbers.append(phone_number)\n",
    "print(\"\\nName\\t\\t\\tPhone Number\\n\")\n",
    "for i in range(num):\n",
    "    print(\"{}\\t\\t\\t{}\".format(names[i], phone_numbers[i]))\n",
    "search_term = input(\"\\nEnter search term: \")\n",
    "print(\"Search result\")\n",
    "if search_term in names:\n",
    "    index = names.index(search_term)\n",
    "    phone_number = phone_numbers[index]\n",
    "    print(\"Name: {}, Phone Nmber: {}\".format(search_term, phone_number))\n",
    "else: #Tahir 365\n",
    "    print(\"Name Not Found\")"
   ]
  },
  {
   "cell_type": "code",
   "execution_count": null,
   "id": "ce8e97a3",
   "metadata": {},
   "outputs": [],
   "source": []
  }
 ],
 "metadata": {
  "kernelspec": {
   "display_name": "Python 3 (ipykernel)",
   "language": "python",
   "name": "python3"
  },
  "language_info": {
   "codemirror_mode": {
    "name": "ipython",
    "version": 3
   },
   "file_extension": ".py",
   "mimetype": "text/x-python",
   "name": "python",
   "nbconvert_exporter": "python",
   "pygments_lexer": "ipython3",
   "version": "3.10.7"
  }
 },
 "nbformat": 4,
 "nbformat_minor": 5
}
