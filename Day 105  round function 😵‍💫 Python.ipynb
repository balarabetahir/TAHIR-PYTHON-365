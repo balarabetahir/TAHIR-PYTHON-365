{
 "cells": [
  {
   "cell_type": "code",
   "execution_count": 1,
   "id": "bd340ffb",
   "metadata": {},
   "outputs": [
    {
     "name": "stdout",
     "output_type": "stream",
     "text": [
      "4\n"
     ]
    }
   ],
   "source": [
    "print(round(9/2))"
   ]
  },
  {
   "cell_type": "code",
   "execution_count": 2,
   "id": "bf9090c9",
   "metadata": {},
   "outputs": [
    {
     "name": "stdout",
     "output_type": "stream",
     "text": [
      "4\n"
     ]
    }
   ],
   "source": [
    "print(round(7/2))"
   ]
  },
  {
   "cell_type": "code",
   "execution_count": 3,
   "id": "45c629a7",
   "metadata": {},
   "outputs": [
    {
     "name": "stdout",
     "output_type": "stream",
     "text": [
      "2\n"
     ]
    }
   ],
   "source": [
    "print(round(3/2))"
   ]
  },
  {
   "cell_type": "code",
   "execution_count": null,
   "id": "04a8f579",
   "metadata": {},
   "outputs": [],
   "source": [
    "#why does print(round(7/2)) prints 4 instead of 3 or\n",
    "#why does print(round(9/2)) prints 4 instead of 5?\n",
    "\n",
    "#This is because, in python, the round function implements banker’s rounding,\n",
    "#where all the half values are rounded to the closest even number.\"\"\"\n"
   ]
  }
 ],
 "metadata": {
  "kernelspec": {
   "display_name": "Python 3 (ipykernel)",
   "language": "python",
   "name": "python3"
  },
  "language_info": {
   "codemirror_mode": {
    "name": "ipython",
    "version": 3
   },
   "file_extension": ".py",
   "mimetype": "text/x-python",
   "name": "python",
   "nbconvert_exporter": "python",
   "pygments_lexer": "ipython3",
   "version": "3.10.8"
  }
 },
 "nbformat": 4,
 "nbformat_minor": 5
}
