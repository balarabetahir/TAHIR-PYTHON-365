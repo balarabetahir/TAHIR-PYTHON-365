{
 "cells": [
  {
   "cell_type": "code",
   "execution_count": null,
   "id": "666ee53c",
   "metadata": {},
   "outputs": [],
   "source": [
    "import pywhatkit as kit\n",
    "import cv2\n",
    "Handwritten=input(\"Enter your text to convert in Handwriting : \")\n",
    "kit.text_to_handwriting(Handwritten, save_to=\"pythoncoding.png\")\n",
    "img = cv2.imread(\"pythoncoding.png\")\n",
    "cv2.imshow(\"Python Coding\", img)\n",
    "cv2.waitkey(0)\n",
    "cv2.destroyAllWindows()\n",
    "\n",
    "#Tahir 365\n"
   ]
  },
  {
   "cell_type": "code",
   "execution_count": null,
   "id": "bab782ac",
   "metadata": {},
   "outputs": [],
   "source": []
  }
 ],
 "metadata": {
  "kernelspec": {
   "display_name": "Python 3 (ipykernel)",
   "language": "python",
   "name": "python3"
  },
  "language_info": {
   "codemirror_mode": {
    "name": "ipython",
    "version": 3
   },
   "file_extension": ".py",
   "mimetype": "text/x-python",
   "name": "python",
   "nbconvert_exporter": "python",
   "pygments_lexer": "ipython3",
   "version": "3.10.7"
  }
 },
 "nbformat": 4,
 "nbformat_minor": 5
}
