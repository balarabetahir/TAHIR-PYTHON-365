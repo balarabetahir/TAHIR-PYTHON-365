{
 "cells": [
  {
   "cell_type": "code",
   "execution_count": 7,
   "id": "367f16ce",
   "metadata": {},
   "outputs": [
    {
     "name": "stdout",
     "output_type": "stream",
     "text": [
      "Enter Year:2022\n",
      "                                                  2022\n",
      "\n",
      "      January                     February                     March                       April\n",
      "Mo Tu We Th Fr Sa Su        Mo Tu We Th Fr Sa Su        Mo Tu We Th Fr Sa Su        Mo Tu We Th Fr Sa Su\n",
      "                1  2            1  2  3  4  5  6            1  2  3  4  5  6                     1  2  3\n",
      " 3  4  5  6  7  8  9         7  8  9 10 11 12 13         7  8  9 10 11 12 13         4  5  6  7  8  9 10\n",
      "10 11 12 13 14 15 16        14 15 16 17 18 19 20        14 15 16 17 18 19 20        11 12 13 14 15 16 17\n",
      "17 18 19 20 21 22 23        21 22 23 24 25 26 27        21 22 23 24 25 26 27        18 19 20 21 22 23 24\n",
      "24 25 26 27 28 29 30        28                          28 29 30 31                 25 26 27 28 29 30\n",
      "31\n",
      "\n",
      "        May                         June                        July                       August\n",
      "Mo Tu We Th Fr Sa Su        Mo Tu We Th Fr Sa Su        Mo Tu We Th Fr Sa Su        Mo Tu We Th Fr Sa Su\n",
      "                   1               1  2  3  4  5                     1  2  3         1  2  3  4  5  6  7\n",
      " 2  3  4  5  6  7  8         6  7  8  9 10 11 12         4  5  6  7  8  9 10         8  9 10 11 12 13 14\n",
      " 9 10 11 12 13 14 15        13 14 15 16 17 18 19        11 12 13 14 15 16 17        15 16 17 18 19 20 21\n",
      "16 17 18 19 20 21 22        20 21 22 23 24 25 26        18 19 20 21 22 23 24        22 23 24 25 26 27 28\n",
      "23 24 25 26 27 28 29        27 28 29 30                 25 26 27 28 29 30 31        29 30 31\n",
      "30 31\n",
      "\n",
      "     September                    October                     November                    December\n",
      "Mo Tu We Th Fr Sa Su        Mo Tu We Th Fr Sa Su        Mo Tu We Th Fr Sa Su        Mo Tu We Th Fr Sa Su\n",
      "          1  2  3  4                        1  2            1  2  3  4  5  6                  1  2  3  4\n",
      " 5  6  7  8  9 10 11         3  4  5  6  7  8  9         7  8  9 10 11 12 13         5  6  7  8  9 10 11\n",
      "12 13 14 15 16 17 18        10 11 12 13 14 15 16        14 15 16 17 18 19 20        12 13 14 15 16 17 18\n",
      "19 20 21 22 23 24 25        17 18 19 20 21 22 23        21 22 23 24 25 26 27        19 20 21 22 23 24 25\n",
      "26 27 28 29 30              24 25 26 27 28 29 30        28 29 30                    26 27 28 29 30 31\n",
      "                            31\n",
      "\n"
     ]
    }
   ],
   "source": [
    "from calendar import*\n",
    "year = int(input('Enter Year:'))\n",
    "print(calendar(year, 2, 1, 8, 4))\n",
    "\n",
    "\n",
    "#2 = 2 charaters for days (Mo, Tu etc)\n",
    "#1 = 1 line (row) for each week\n",
    "#8 = 8 rows for each month \n",
    "#4 = 4 columns for all months of the year\n",
    "#Tahir365"
   ]
  },
  {
   "cell_type": "code",
   "execution_count": null,
   "id": "a0833748",
   "metadata": {},
   "outputs": [],
   "source": []
  }
 ],
 "metadata": {
  "kernelspec": {
   "display_name": "Python 3 (ipykernel)",
   "language": "python",
   "name": "python3"
  },
  "language_info": {
   "codemirror_mode": {
    "name": "ipython",
    "version": 3
   },
   "file_extension": ".py",
   "mimetype": "text/x-python",
   "name": "python",
   "nbconvert_exporter": "python",
   "pygments_lexer": "ipython3",
   "version": "3.10.8"
  }
 },
 "nbformat": 4,
 "nbformat_minor": 5
}
