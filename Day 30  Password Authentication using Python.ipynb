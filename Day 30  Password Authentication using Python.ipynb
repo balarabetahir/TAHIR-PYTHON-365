{
 "cells": [
  {
   "cell_type": "code",
   "execution_count": 9,
   "id": "31e52ca7",
   "metadata": {},
   "outputs": [
    {
     "name": "stdout",
     "output_type": "stream",
     "text": [
      "Enter Your Username : Tahir 365\n",
      "Enter Your Password : ········\n",
      "Verified\n"
     ]
    }
   ],
   "source": [
    "import getpass\n",
    "database = {\"clouding\": \"976729\", \"pythonclcoding\": \"2502\"}\n",
    "username = input(\"Enter Your Username : \")\n",
    "password = getpass.getpass(\"Enter Your Password : \")\n",
    "for i in database.keys():\n",
    "    if username == i:\n",
    "        while password != database.get(i):\n",
    "            password = getpass.getpass(\"Enter Your Password Again : \")\n",
    "        break \n",
    "print(\"Verified\")\n",
    "#Tahir365"
   ]
  },
  {
   "cell_type": "code",
   "execution_count": null,
   "id": "831756a1",
   "metadata": {},
   "outputs": [],
   "source": []
  }
 ],
 "metadata": {
  "kernelspec": {
   "display_name": "Python 3 (ipykernel)",
   "language": "python",
   "name": "python3"
  },
  "language_info": {
   "codemirror_mode": {
    "name": "ipython",
    "version": 3
   },
   "file_extension": ".py",
   "mimetype": "text/x-python",
   "name": "python",
   "nbconvert_exporter": "python",
   "pygments_lexer": "ipython3",
   "version": "3.10.7"
  }
 },
 "nbformat": 4,
 "nbformat_minor": 5
}
