{
 "cells": [
  {
   "cell_type": "code",
   "execution_count": 4,
   "id": "f0a7368d",
   "metadata": {},
   "outputs": [
    {
     "name": "stdout",
     "output_type": "stream",
     "text": [
      "Enter the Number to check Disarium Number = 89\n",
      "The Sum of the Digits = 89\n",
      "\n",
      "89 is a Disarium Number. \n"
     ]
    }
   ],
   "source": [
    "Number = int(input(\"Enter the Number to check Disarium Number = \"))\n",
    "length = len(str(Number))\n",
    "Temp = Number\n",
    "Sum = 0\n",
    "rem = 0 #Tahir365\n",
    "while Temp > 0:\n",
    "    rem = Temp %10\n",
    "    Sum = Sum + int(rem**length)\n",
    "    Temp = Temp // 10\n",
    "    length = length - 1\n",
    "    \n",
    "print(\"The Sum of the Digits = %d\" %Sum)\n",
    "if Sum == Number:\n",
    "    print(\"\\n%d is a Disarium Number. \" %Number)\n",
    "else:\n",
    "    print(\"%d is Not a Disarium Number.\" %Number)"
   ]
  },
  {
   "cell_type": "code",
   "execution_count": null,
   "id": "e01de782",
   "metadata": {},
   "outputs": [],
   "source": []
  }
 ],
 "metadata": {
  "kernelspec": {
   "display_name": "Python 3 (ipykernel)",
   "language": "python",
   "name": "python3"
  },
  "language_info": {
   "codemirror_mode": {
    "name": "ipython",
    "version": 3
   },
   "file_extension": ".py",
   "mimetype": "text/x-python",
   "name": "python",
   "nbconvert_exporter": "python",
   "pygments_lexer": "ipython3",
   "version": "3.10.8"
  }
 },
 "nbformat": 4,
 "nbformat_minor": 5
}
