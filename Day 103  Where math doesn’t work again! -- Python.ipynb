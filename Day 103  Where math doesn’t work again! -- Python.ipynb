{
 "cells": [
  {
   "cell_type": "code",
   "execution_count": 1,
   "id": "335347af",
   "metadata": {},
   "outputs": [
    {
     "name": "stdout",
     "output_type": "stream",
     "text": [
      "False\n"
     ]
    }
   ],
   "source": [
    "#Guess the output in this case?\n",
    "a=(1 <<53)+1\n",
    "print(a+1.0 > a)"
   ]
  },
  {
   "cell_type": "code",
   "execution_count": 2,
   "id": "b64bbc9d",
   "metadata": {},
   "outputs": [],
   "source": [
    "#Firstly, due to the counter-intuitive behaviour of Arbitrary-precision arithmetic(long arithmetic). \n",
    "#Python supports very large integers with long type,\n",
    "#but the limit of float precision in Python is limited. \n",
    "#The number is 2^53+ 1 = 9007199254749993)"
   ]
  },
  {
   "cell_type": "code",
   "execution_count": 3,
   "id": "78c3cbac",
   "metadata": {},
   "outputs": [],
   "source": [
    "#Second is float precision limits which mean it cannot be fully represented as a Python float and hence, to perform x + 1.0, python casts a to float, rounding it to 9007199254740992.\n",
    "#which Python can represent easily and then adds 1.0 to it.\n",
    "#But due to the same representation limits, it sets it back to 9007199254740992."
   ]
  },
  {
   "cell_type": "code",
   "execution_count": null,
   "id": "687349d9",
   "metadata": {},
   "outputs": [],
   "source": [
    "#Third is due to comparison rules. Unlike other languages,\n",
    "#Python does not throw an error for float vs int comparison and\n",
    "#neither does it try to cast both operands to the same type. Instead, they compare actual numerical values.\n",
    "#And because 90@7199254740992.0 is lower than 9007199254740993, it prints False.“\"\"\""
   ]
  }
 ],
 "metadata": {
  "kernelspec": {
   "display_name": "Python 3 (ipykernel)",
   "language": "python",
   "name": "python3"
  },
  "language_info": {
   "codemirror_mode": {
    "name": "ipython",
    "version": 3
   },
   "file_extension": ".py",
   "mimetype": "text/x-python",
   "name": "python",
   "nbconvert_exporter": "python",
   "pygments_lexer": "ipython3",
   "version": "3.10.8"
  }
 },
 "nbformat": 4,
 "nbformat_minor": 5
}
