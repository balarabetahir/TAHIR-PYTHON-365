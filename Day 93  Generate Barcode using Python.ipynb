{
 "cells": [
  {
   "cell_type": "code",
   "execution_count": 1,
   "id": "54ac05a9",
   "metadata": {},
   "outputs": [
    {
     "name": "stdout",
     "output_type": "stream",
     "text": [
      "Enter the code to generate barcode : 12345678911\n"
     ]
    },
    {
     "data": {
      "text/plain": [
       "'generated_barcode.png'"
      ]
     },
     "execution_count": 1,
     "metadata": {},
     "output_type": "execute_result"
    }
   ],
   "source": [
    "import barcode\n",
    "from barcode.writer import ImageWriter \n",
    "\n",
    "\n",
    "#Define content of the barcode as a string\n",
    "number = input(\"Enter the code to generate barcode : \") #Tahir365\n",
    "\n",
    "#Get the reqired barcode format\n",
    "barcode_format = barcode.get_barcode_class('upc')\n",
    "\n",
    "#Generate barcode and render an image\n",
    "my_barcode = barcode_format(number, writer=ImageWriter())\n",
    "\n",
    "#save barcode as PNG\n",
    "my_barcode.save(\"generated_barcode\")"
   ]
  },
  {
   "cell_type": "code",
   "execution_count": 2,
   "id": "1bc2e702",
   "metadata": {},
   "outputs": [
    {
     "data": {
      "image/png": "[encoded data removed]",
      "text/plain": [
       "<PIL.PngImagePlugin.PngImageFile image mode=RGB size=523x280>"
      ]
     },
     "execution_count": 2,
     "metadata": {},
     "output_type": "execute_result"
    }
   ],
   "source": [
    "from PIL import Image #toopen the barcode and show\n",
    "Image.open('generated_barcode.png') #Tahir365"
   ]
  },
  {
   "cell_type": "code",
   "execution_count": null,
   "id": "9efa6926",
   "metadata": {},
   "outputs": [],
   "source": []
  }
 ],
 "metadata": {
  "kernelspec": {
   "display_name": "Python 3 (ipykernel)",
   "language": "python",
   "name": "python3"
  },
  "language_info": {
   "codemirror_mode": {
    "name": "ipython",
    "version": 3
   },
   "file_extension": ".py",
   "mimetype": "text/x-python",
   "name": "python",
   "nbconvert_exporter": "python",
   "pygments_lexer": "ipython3",
   "version": "3.10.8"
  }
 },
 "nbformat": 4,
 "nbformat_minor": 5
}
