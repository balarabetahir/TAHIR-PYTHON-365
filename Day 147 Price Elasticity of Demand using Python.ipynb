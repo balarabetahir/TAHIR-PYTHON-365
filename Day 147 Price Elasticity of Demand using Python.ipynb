{
 "cells": [
  {
   "cell_type": "code",
   "execution_count": 1,
   "id": "181c953d",
   "metadata": {},
   "outputs": [
    {
     "name": "stdout",
     "output_type": "stream",
     "text": [
      "   Demand  Price\n",
      "0      20   2000\n",
      "1      30   1800\n",
      "2      31   1850\n",
      "3      33   1700\n",
      "4      30   1800\n",
      "5      33   1700\n",
      "6      35   1600\n"
     ]
    }
   ],
   "source": [
    "import pandas as pd\n",
    "data = pd.DataFrame({\"Demand\": [20, 30, 31, 33, 30, 33, 35], \n",
    "                     \"Price\": [2000, 1800, 1850, 1700, 1800, 1700, 1600]})\n",
    "print(data)"
   ]
  },
  {
   "cell_type": "code",
   "execution_count": 2,
   "id": "67ba1b87",
   "metadata": {},
   "outputs": [
    {
     "name": "stdout",
     "output_type": "stream",
     "text": [
      "   Demand  Price  % Change in Demand  % Change in Price\n",
      "0      20   2000                 NaN                NaN\n",
      "1      30   1800            0.500000          -0.100000\n",
      "2      31   1850            0.033333           0.027778\n",
      "3      33   1700            0.064516          -0.081081\n",
      "4      30   1800           -0.090909           0.058824\n",
      "5      33   1700            0.100000          -0.055556\n",
      "6      35   1600            0.060606          -0.058824\n"
     ]
    }
   ],
   "source": [
    "data[\"% Change in Demand\"] = data[\"Demand\"].pct_change()\n",
    "data[\"% Change in Price\"] = data[\"Price\"].pct_change()\n",
    "print(data)"
   ]
  },
  {
   "cell_type": "code",
   "execution_count": 4,
   "id": "85db65a8",
   "metadata": {},
   "outputs": [
    {
     "name": "stdout",
     "output_type": "stream",
     "text": [
      "   Demand  Price  % Change in Demand  % Change in Price  Price Elasticity\n",
      "0      20   2000                 NaN                NaN               NaN\n",
      "1      30   1800            0.500000          -0.100000         -5.000000\n",
      "2      31   1850            0.033333           0.027778          1.200000\n",
      "3      33   1700            0.064516          -0.081081         -0.795699\n",
      "4      30   1800           -0.090909           0.058824         -1.545455\n",
      "5      33   1700            0.100000          -0.055556         -1.800000\n",
      "6      35   1600            0.060606          -0.058824         -1.030303\n"
     ]
    }
   ],
   "source": [
    "data[\"Price Elasticity\"] = data[\"% Change in Demand\"] / data[\"% Change in Price\"]\n",
    "print(data)"
   ]
  },
  {
   "cell_type": "code",
   "execution_count": null,
   "id": "6df137e0",
   "metadata": {},
   "outputs": [],
   "source": []
  }
 ],
 "metadata": {
  "kernelspec": {
   "display_name": "Python 3 (ipykernel)",
   "language": "python",
   "name": "python3"
  },
  "language_info": {
   "codemirror_mode": {
    "name": "ipython",
    "version": 3
   },
   "file_extension": ".py",
   "mimetype": "text/x-python",
   "name": "python",
   "nbconvert_exporter": "python",
   "pygments_lexer": "ipython3",
   "version": "3.10.8"
  }
 },
 "nbformat": 4,
 "nbformat_minor": 5
}
