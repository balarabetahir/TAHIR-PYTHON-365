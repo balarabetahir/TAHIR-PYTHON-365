{
 "cells": [
  {
   "cell_type": "code",
   "execution_count": 3,
   "id": "f84db683",
   "metadata": {},
   "outputs": [
    {
     "name": "stdout",
     "output_type": "stream",
     "text": [
      "Sorted List: [1, 2, 4, 5, 6, 7, 8, 9]\n"
     ]
    }
   ],
   "source": [
    "def bubbleSort(List):\n",
    "    for i in range(len(List)):\n",
    "        for j in range(len(List) - 1, i, -1):\n",
    "            if List[j] < List[j - 1]:\n",
    "                List[j], List[j - 1] = List[j - 1], List[j]\n",
    "    return List\n",
    "\n",
    "if __name__ == '__main__':\n",
    "    List = [8, 4, 2, 6, 5, 7, 1, 9,]\n",
    "    print('Sorted List:' ,bubbleSort(List))\n",
    "    \n",
    "    \n",
    "#Tahir365\n"
   ]
  },
  {
   "cell_type": "code",
   "execution_count": null,
   "id": "461c969a",
   "metadata": {},
   "outputs": [],
   "source": []
  }
 ],
 "metadata": {
  "kernelspec": {
   "display_name": "Python 3 (ipykernel)",
   "language": "python",
   "name": "python3"
  },
  "language_info": {
   "codemirror_mode": {
    "name": "ipython",
    "version": 3
   },
   "file_extension": ".py",
   "mimetype": "text/x-python",
   "name": "python",
   "nbconvert_exporter": "python",
   "pygments_lexer": "ipython3",
   "version": "3.10.7"
  }
 },
 "nbformat": 4,
 "nbformat_minor": 5
}
