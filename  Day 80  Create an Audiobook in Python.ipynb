{
 "cells": [
  {
   "cell_type": "code",
   "execution_count": null,
   "id": "70ab421d",
   "metadata": {},
   "outputs": [],
   "source": [
    "import PyPDF2\n",
    "import pyttsx3\n",
    "# Read the pdf by spcifying the path in your computer\n",
    "pdfReader = PyPDF2.PdfFileReader(open('BAT.pdf', 'rb'))\n",
    "# Get the handle to speaker\n",
    "speaker = pyttsx3.init()\n",
    "# split the pages and read one by one\n",
    "for page_num in range(pdfReader.numPages):\n",
    "    text = pdfReader.getPage(page_num).extractText()\n",
    "    speaker.say(text)\n",
    "    speaker.runAndWait()\n",
    "# stop the speaker after cpmpletion\n",
    "speaker.stop()\n",
    "# save the audibook at specified path\n",
    "engine.save_to_file(text, 'C:\\audio.mp3')\n",
    "engine.runAndWait()"
   ]
  },
  {
   "cell_type": "code",
   "execution_count": null,
   "id": "9ccb55de",
   "metadata": {},
   "outputs": [],
   "source": []
  }
 ],
 "metadata": {
  "kernelspec": {
   "display_name": "Python 3 (ipykernel)",
   "language": "python",
   "name": "python3"
  },
  "language_info": {
   "codemirror_mode": {
    "name": "ipython",
    "version": 3
   },
   "file_extension": ".py",
   "mimetype": "text/x-python",
   "name": "python",
   "nbconvert_exporter": "python",
   "pygments_lexer": "ipython3",
   "version": "3.10.8"
  }
 },
 "nbformat": 4,
 "nbformat_minor": 5
}
