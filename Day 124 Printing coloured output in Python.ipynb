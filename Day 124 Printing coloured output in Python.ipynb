{
 "cells": [
  {
   "cell_type": "code",
   "execution_count": 2,
   "id": "e0d8e47e",
   "metadata": {},
   "outputs": [
    {
     "name": "stdout",
     "output_type": "stream",
     "text": [
      "\u001b[31mhello world\n",
      "\u001b[34mhello world\n",
      "\u001b[32mhello world\n",
      "\u001b[33mTahir 365\n",
      "\u001b[36mTahir 365 Python\n"
     ]
    }
   ],
   "source": [
    "from colorama import Fore\n",
    "print(Fore.RED + \"hello world\")\n",
    "print(Fore.BLUE + \"hello world\")\n",
    "print(Fore.GREEN + \"hello world\")\n",
    "print(Fore.YELLOW + \"Tahir 365\")\n",
    "print(Fore.CYAN + \"Tahir 365 Python\")\n",
    "\n",
    "\n",
    "\n",
    "#Tahir365"
   ]
  },
  {
   "cell_type": "code",
   "execution_count": null,
   "id": "0e60061b",
   "metadata": {},
   "outputs": [],
   "source": []
  }
 ],
 "metadata": {
  "kernelspec": {
   "display_name": "Python 3 (ipykernel)",
   "language": "python",
   "name": "python3"
  },
  "language_info": {
   "codemirror_mode": {
    "name": "ipython",
    "version": 3
   },
   "file_extension": ".py",
   "mimetype": "text/x-python",
   "name": "python",
   "nbconvert_exporter": "python",
   "pygments_lexer": "ipython3",
   "version": "3.10.8"
  }
 },
 "nbformat": 4,
 "nbformat_minor": 5
}
