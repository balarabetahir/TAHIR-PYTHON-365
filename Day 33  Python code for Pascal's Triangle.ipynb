{
 "cells": [
  {
   "cell_type": "code",
   "execution_count": 16,
   "id": "2fafd5da",
   "metadata": {},
   "outputs": [
    {
     "name": "stdout",
     "output_type": "stream",
     "text": [
      "Enter the Number for the pascal triangle :10\n",
      "pascal's triangle of 10 Rows...\n",
      "rows 1 : 1 \n",
      "rows 2 : 1 1 \n",
      "rows 3 : 1 2 1 \n",
      "rows 4 : 1 3 3 1 \n",
      "rows 5 : 1 4 6 4 1 \n",
      "rows 6 : 1 5 10 10 5 1 \n",
      "rows 7 : 1 6 15 20 15 6 1 \n",
      "rows 8 : 1 7 21 35 35 21 7 1 \n",
      "rows 9 : 1 8 28 56 70 56 28 8 1 \n",
      "rows 10 : 1 9 36 84 126 126 84 36 9 1 \n"
     ]
    }
   ],
   "source": [
    "def printPascal(N):\n",
    "    arr = [1]\n",
    "    temp = []\n",
    "    print(\"pascal's triangle of\", N, \"Rows...\")\n",
    "    for i in range(N):\n",
    "        print(\"rows\", i+1, end=\" : \")\n",
    "        for j in range(len(arr)):\n",
    "            print(arr[j], end=' ')\n",
    "        print()            #Tahir365\n",
    "        temp.append(1)\n",
    "        for j in range(len(arr)-1):\n",
    "                temp.append(arr[j] + arr[j + 1])\n",
    "        temp.append(1)\n",
    "        arr = temp\n",
    "        temp = []\n",
    "N=int(input(\"Enter the Number for the pascal triangle :\"))\n",
    "printPascal(N)"
   ]
  },
  {
   "cell_type": "code",
   "execution_count": null,
   "id": "a25d9639",
   "metadata": {},
   "outputs": [],
   "source": []
  }
 ],
 "metadata": {
  "kernelspec": {
   "display_name": "Python 3 (ipykernel)",
   "language": "python",
   "name": "python3"
  },
  "language_info": {
   "codemirror_mode": {
    "name": "ipython",
    "version": 3
   },
   "file_extension": ".py",
   "mimetype": "text/x-python",
   "name": "python",
   "nbconvert_exporter": "python",
   "pygments_lexer": "ipython3",
   "version": "3.10.7"
  }
 },
 "nbformat": 4,
 "nbformat_minor": 5
}
