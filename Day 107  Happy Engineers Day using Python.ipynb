{
 "cells": [
  {
   "cell_type": "code",
   "execution_count": 2,
   "id": "37832143",
   "metadata": {},
   "outputs": [
    {
     "name": "stdout",
     "output_type": "stream",
     "text": [
      "                                                            \n",
      "                                                            \n",
      "                                                            \n",
      "                erEnginee           gineerEng               \n",
      "            ineerEngineerEngi   rEngineerEngineer           \n",
      "          gineerEngineerEngineerEngineerEngineerEng         \n",
      "         gineerEngineerEngineerEngineerEngineerEngin        \n",
      "        gineerEngineerEngineerEngineerEngineerEnginee       \n",
      "        ineerEngineerEngineerEngineerEngineerEngineer       \n",
      "        neerEngineerEngineerEngineerEngineerEngineerE       \n",
      "        eerEngineerEngineerEngineerEngineerEngineerEn       \n",
      "        erEngineerEngineerEngineerEngineerEngineerEng       \n",
      "        rEngineerEngineerEngineerEngineerEngineerEngi       \n",
      "         ngineerEngineerEngineerEngineerEngineerEngi        \n",
      "          ineerEngineerEngineerEngineerEngineerEngi         \n",
      "          neerEngineerEngineerEngineerEngineerEngin         \n",
      "            rEngineerEngineerEngineerEngineerEngi           \n",
      "             ngineerEngineerEngineerEngineerEngi            \n",
      "              ineerEngineerEngineerEngineerEngi             \n",
      "                erEngineerEngineerEngineerEng               \n",
      "                  ngineerEngineerEngineerEn                 \n",
      "                    neerEngineerEngineerE                   \n",
      "                       EngineerEnginee                      \n",
      "                          neerEngin                         \n",
      "                             Eng                            \n",
      "                              g                             \n",
      "                                                            \n",
      "                                                            \n",
      "                                                            \n",
      "                                                            \n"
     ]
    }
   ],
   "source": [
    "print('\\n'.join\n",
    "     ([''.join\n",
    "       ([('Engineer'[(x-y)%8 ]\n",
    "         if((x*0.05)**2+(y*0.1)**2-1)\n",
    "         **3-(x*0.05)**2*(y*0.1)\n",
    "          **3<=0 else' ')\n",
    "           for x in range(-30,30)])\n",
    "            for y in range(15,-15,-1)]))"
   ]
  },
  {
   "cell_type": "code",
   "execution_count": null,
   "id": "3aed2f17",
   "metadata": {},
   "outputs": [],
   "source": []
  }
 ],
 "metadata": {
  "kernelspec": {
   "display_name": "Python 3 (ipykernel)",
   "language": "python",
   "name": "python3"
  },
  "language_info": {
   "codemirror_mode": {
    "name": "ipython",
    "version": 3
   },
   "file_extension": ".py",
   "mimetype": "text/x-python",
   "name": "python",
   "nbconvert_exporter": "python",
   "pygments_lexer": "ipython3",
   "version": "3.10.8"
  }
 },
 "nbformat": 4,
 "nbformat_minor": 5
}
