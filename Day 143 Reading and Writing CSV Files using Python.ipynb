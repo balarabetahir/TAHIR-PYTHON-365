{
 "cells": [
  {
   "cell_type": "code",
   "execution_count": 2,
   "id": "a02838f4",
   "metadata": {},
   "outputs": [
    {
     "name": "stdout",
     "output_type": "stream",
     "text": [
      "     Name  Age\n",
      "0  Python   23\n",
      "1      C#   21\n",
      "2     C++   25\n",
      "3     SQL   23\n",
      "4    HTML   22\n"
     ]
    }
   ],
   "source": [
    "# writing a csv file\n",
    "import csv\n",
    "import pandas as pd\n",
    "data = {\"Name\": [\"Python\", \"C#\", \"C++\", \"SQL\", \"HTML\"], \n",
    "        \"Age\": [23, 21, 25, 23, 22]}\n",
    "data = pd.DataFrame(data)\n",
    "data.to_csv(\"age_data.csv\", index=False)\n",
    "print(data.head())"
   ]
  },
  {
   "cell_type": "code",
   "execution_count": 3,
   "id": "c1f499ac",
   "metadata": {},
   "outputs": [
    {
     "name": "stdout",
     "output_type": "stream",
     "text": [
      "     Name  Age\n",
      "0  Python   23\n",
      "1      C#   21\n",
      "2     C++   25\n",
      "3     SQL   23\n",
      "4    HTML   22\n"
     ]
    }
   ],
   "source": [
    "# reading a csv file\n",
    "import pandas as pd\n",
    "data = pd.read_csv(\"age_data.csv\")\n",
    "print(data.head())"
   ]
  },
  {
   "cell_type": "code",
   "execution_count": null,
   "id": "f3e8354f",
   "metadata": {},
   "outputs": [],
   "source": []
  }
 ],
 "metadata": {
  "kernelspec": {
   "display_name": "Python 3 (ipykernel)",
   "language": "python",
   "name": "python3"
  },
  "language_info": {
   "codemirror_mode": {
    "name": "ipython",
    "version": 3
   },
   "file_extension": ".py",
   "mimetype": "text/x-python",
   "name": "python",
   "nbconvert_exporter": "python",
   "pygments_lexer": "ipython3",
   "version": "3.10.8"
  }
 },
 "nbformat": 4,
 "nbformat_minor": 5
}
