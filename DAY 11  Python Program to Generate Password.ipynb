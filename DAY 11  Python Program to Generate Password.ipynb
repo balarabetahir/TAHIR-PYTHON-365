{
 "cells": [
  {
   "cell_type": "code",
   "execution_count": null,
   "id": "5213739d",
   "metadata": {},
   "outputs": [],
   "source": [
    "#import random module\n",
    "import random\n",
    "\n",
    "#User input for password Length\n",
    "passlen = int(input(\"Enter the length of password :\"))\n",
    "\n",
    "#storing letters , numbers and special characters\n",
    "s=\"abcdefghijklmnopqrstuvwxyz01234567890ABCDEFGHIJKLMNOPQRSTUVWXYZ!@#$%^&*()?\"\n",
    "\n",
    "#random sampling by joining the length of the password and the variable s\n",
    "p=\"\".join(random.sample(s,passlen))\n",
    "print(p)\n",
    "\n",
    "#Tahir 365"
   ]
  },
  {
   "cell_type": "code",
   "execution_count": null,
   "id": "e9d41e14",
   "metadata": {},
   "outputs": [],
   "source": []
  }
 ],
 "metadata": {
  "kernelspec": {
   "display_name": "Python 3 (ipykernel)",
   "language": "python",
   "name": "python3"
  },
  "language_info": {
   "codemirror_mode": {
    "name": "ipython",
    "version": 3
   },
   "file_extension": ".py",
   "mimetype": "text/x-python",
   "name": "python",
   "nbconvert_exporter": "python",
   "pygments_lexer": "ipython3",
   "version": "3.10.7"
  }
 },
 "nbformat": 4,
 "nbformat_minor": 5
}
