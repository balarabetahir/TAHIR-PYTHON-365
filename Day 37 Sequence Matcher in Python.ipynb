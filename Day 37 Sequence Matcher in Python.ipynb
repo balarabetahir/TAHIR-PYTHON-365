{
 "cells": [
  {
   "cell_type": "code",
   "execution_count": 2,
   "id": "3817d7ab",
   "metadata": {},
   "outputs": [
    {
     "name": "stdout",
     "output_type": "stream",
     "text": [
      "Enter 1st sentence : Tahir 365 days of code\n",
      "Enter 2nd sentence : 365 days of Tahir code\n",
      "Both are 72.72727272727273%similar\n"
     ]
    }
   ],
   "source": [
    "from difflib import SequenceMatcher\n",
    "text1 = input(\"Enter 1st sentence : \")\n",
    "text2 = input(\"Enter 2nd sentence : \")\n",
    "sequenceScore = SequenceMatcher(None, text1, text2).ratio()\n",
    "print(f\"Both are {sequenceScore * 100}%similar\")\n",
    "\n",
    "#Tahir365"
   ]
  },
  {
   "cell_type": "code",
   "execution_count": null,
   "id": "7be7124d",
   "metadata": {},
   "outputs": [],
   "source": []
  }
 ],
 "metadata": {
  "kernelspec": {
   "display_name": "Python 3 (ipykernel)",
   "language": "python",
   "name": "python3"
  },
  "language_info": {
   "codemirror_mode": {
    "name": "ipython",
    "version": 3
   },
   "file_extension": ".py",
   "mimetype": "text/x-python",
   "name": "python",
   "nbconvert_exporter": "python",
   "pygments_lexer": "ipython3",
   "version": "3.10.7"
  }
 },
 "nbformat": 4,
 "nbformat_minor": 5
}
