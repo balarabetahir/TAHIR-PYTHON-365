{
 "cells": [
  {
   "cell_type": "code",
   "execution_count": 1,
   "id": "ed80d8d6",
   "metadata": {},
   "outputs": [
    {
     "name": "stdout",
     "output_type": "stream",
     "text": [
      "Enter a Decimal Number: 100\n",
      "0b1100100 in Binary.\n",
      "0o144 in Octal.\n",
      "0x64 in Hexadecimal.\n"
     ]
    }
   ],
   "source": [
    "# Python program to convert decimal into other number systems\n",
    "dec = int(input(\"Enter a Decimal Number: \"))\n",
    "\n",
    "#decimal to binary \n",
    "print(bin(dec), \"in Binary.\")\n",
    "\n",
    "#decimal to octal\n",
    "print(oct(dec), \"in Octal.\")\n",
    "\n",
    "#decimal to Hexadecimal\n",
    "print(hex(dec), \"in Hexadecimal.\")\n",
    "\n",
    "#Tahir365"
   ]
  },
  {
   "cell_type": "code",
   "execution_count": null,
   "id": "94f190be",
   "metadata": {},
   "outputs": [],
   "source": []
  }
 ],
 "metadata": {
  "kernelspec": {
   "display_name": "Python 3 (ipykernel)",
   "language": "python",
   "name": "python3"
  },
  "language_info": {
   "codemirror_mode": {
    "name": "ipython",
    "version": 3
   },
   "file_extension": ".py",
   "mimetype": "text/x-python",
   "name": "python",
   "nbconvert_exporter": "python",
   "pygments_lexer": "ipython3",
   "version": "3.10.8"
  }
 },
 "nbformat": 4,
 "nbformat_minor": 5
}
