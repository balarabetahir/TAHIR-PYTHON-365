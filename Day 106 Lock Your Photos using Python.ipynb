{
 "cells": [
  {
   "cell_type": "code",
   "execution_count": 4,
   "id": "f8d362ff",
   "metadata": {},
   "outputs": [
    {
     "name": "stdout",
     "output_type": "stream",
     "text": [
      "Your Photo is locked\n"
     ]
    }
   ],
   "source": [
    "from cryptography.fernet import Fernet\n",
    "key = Fernet.generate_key()\n",
    "with open('key.key' , 'wb') as f:\n",
    "    f.write(key)\n",
    "fernet = Fernet(key)\n",
    "with open('onlline.png', 'rb') as f:\n",
    "    Photo = f.read()\n",
    "\n",
    "lock = fernet.encrypt(Photo)\n",
    "with open('onlline.png', 'wb') as lock_Photo:\n",
    "    lock_Photo.write(lock)\n",
    "print(\"Your Photo is locked\")\n",
    "#Tahir365"
   ]
  },
  {
   "cell_type": "code",
   "execution_count": 6,
   "id": "3686c108",
   "metadata": {},
   "outputs": [
    {
     "name": "stdout",
     "output_type": "stream",
     "text": [
      "Your Photo is Unlocked\n"
     ]
    }
   ],
   "source": [
    "#Unlock Your Photo\n",
    "with open('key.key', 'rb') as f:\n",
    "    key = f.read()\n",
    "fernet = Fernet(key)\n",
    "with open('onlline.png', 'rb') as f:\n",
    "    Photo = f.read()\n",
    "\n",
    "lock = fernet.decrypt(Photo)\n",
    "with open('test.txt', 'wb') as Unlock_Photo:\n",
    "    Unlock_Photo.write(lock)\n",
    "print(\"Your Photo is Unlocked\")"
   ]
  },
  {
   "cell_type": "code",
   "execution_count": null,
   "id": "ee0b1580",
   "metadata": {},
   "outputs": [],
   "source": []
  },
  {
   "cell_type": "code",
   "execution_count": null,
   "id": "0b613900",
   "metadata": {},
   "outputs": [],
   "source": []
  }
 ],
 "metadata": {
  "kernelspec": {
   "display_name": "Python 3 (ipykernel)",
   "language": "python",
   "name": "python3"
  },
  "language_info": {
   "codemirror_mode": {
    "name": "ipython",
    "version": 3
   },
   "file_extension": ".py",
   "mimetype": "text/x-python",
   "name": "python",
   "nbconvert_exporter": "python",
   "pygments_lexer": "ipython3",
   "version": "3.10.8"
  }
 },
 "nbformat": 4,
 "nbformat_minor": 5
}
