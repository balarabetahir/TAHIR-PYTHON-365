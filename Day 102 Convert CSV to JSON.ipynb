{
 "cells": [
  {
   "cell_type": "code",
   "execution_count": 5,
   "id": "35b49089",
   "metadata": {},
   "outputs": [
    {
     "name": "stdout",
     "output_type": "stream",
     "text": [
      "                    Name Twitter_username    Account_start_time  \\\n",
      "0     A. Donald McEachin      RepMcEachin  2017-01-03T00:00:00Z   \n",
      "1       Aaron Michlewitz    RepMichlewitz  2010-06-27T00:00:00Z   \n",
      "2           Aaron Peskin      AaronPeskin  2010-11-13T00:00:00Z   \n",
      "3             Aaron Peña        AaronPena  2007-10-31T00:00:00Z   \n",
      "4           Aaron Schock      aaronschock  2009-03-12T00:00:00Z   \n",
      "...                  ...              ...                   ...   \n",
      "2509       Yvette Clarke  RepYvetteClarke  2011-01-20T00:00:00Z   \n",
      "2510      Yvette Herrell  yvette4congress  2017-08-19T00:00:00Z   \n",
      "2511     Zephyr Teachout   zephyrteachout  2008-07-17T00:00:00Z   \n",
      "2512         Zoe Lofgren    RepZoeLofgren  2011-03-17T00:00:00Z   \n",
      "2513       Zoltan Istvan    zoltan_istvan  2013-07-02T00:00:00Z   \n",
      "\n",
      "              Account_ID     Sex                Birthplace  \\\n",
      "0     816181091673448448    male                   Germany   \n",
      "1              160246973    male  United States of America   \n",
      "2              215369273    male  United States of America   \n",
      "3                9843332    male  United States of America   \n",
      "4               23951197    male  United States of America   \n",
      "...                  ...     ...                       ...   \n",
      "2509           240812994  female  United States of America   \n",
      "2510  898787903609765890  female  United States of America   \n",
      "2511            15467700  female  United States of America   \n",
      "2512           267938462  female  United States of America   \n",
      "2513          1562177648    male  United States of America   \n",
      "\n",
      "                  Birthday   Age Instagram_username    Political_party  \n",
      "0     1961-10-10T00:00:00Z  59.0        repmceachin   Democratic Party  \n",
      "1     1978-01-01T00:00:00Z  42.0                NaN   Democratic Party  \n",
      "2     1964-06-17T00:00:00Z  56.0          apeskin52   Democratic Party  \n",
      "3     1959-06-08T00:00:00Z  61.0                NaN   Republican Party  \n",
      "4     1981-05-28T00:00:00Z  39.0        aaronschock   Republican Party  \n",
      "...                    ...   ...                ...                ...  \n",
      "2509  1964-11-21T00:00:00Z  55.0   repyvettedclarke   Democratic Party  \n",
      "2510  1964-03-16T00:00:00Z  56.0                NaN   Republican Party  \n",
      "2511  1971-10-24T00:00:00Z  49.0     zephyrteachout   Democratic Party  \n",
      "2512  1947-12-21T00:00:00Z  72.0      repzoelofgren   Democratic Party  \n",
      "2513  1973-03-30T00:00:00Z  47.0      zoltan_istvan  Libertarian Party  \n",
      "\n",
      "[2514 rows x 10 columns]\n",
      "Converted JSON file below :\n"
     ]
    },
    {
     "ename": "UnicodeDecodeError",
     "evalue": "'charmap' codec can't decode byte 0x8d in position 3084: character maps to <undefined>",
     "output_type": "error",
     "traceback": [
      "\u001b[1;31m---------------------------------------------------------------------------\u001b[0m",
      "\u001b[1;31mUnicodeDecodeError\u001b[0m                        Traceback (most recent call last)",
      "Cell \u001b[1;32mIn [5], line 6\u001b[0m\n\u001b[0;32m      4\u001b[0m \u001b[38;5;28mprint\u001b[39m(data)\n\u001b[0;32m      5\u001b[0m \u001b[38;5;28mprint\u001b[39m(\u001b[38;5;124m\"\u001b[39m\u001b[38;5;124mConverted JSON file below :\u001b[39m\u001b[38;5;124m\"\u001b[39m)\n\u001b[1;32m----> 6\u001b[0m \u001b[38;5;28mprint\u001b[39m (json\u001b[38;5;241m.\u001b[39mdumps(\u001b[38;5;28mlist\u001b[39m(csv\u001b[38;5;241m.\u001b[39mreader(\u001b[38;5;28mopen\u001b[39m(\u001b[38;5;124mr\u001b[39m\u001b[38;5;124m'\u001b[39m\u001b[38;5;124mdataset.csv\u001b[39m\u001b[38;5;124m'\u001b[39m)))))\n",
      "File \u001b[1;32mC:\\Program Files\\WindowsApps\\PythonSoftwareFoundation.Python.3.10_3.10.2288.0_x64__qbz5n2kfra8p0\\lib\\encodings\\cp1252.py:23\u001b[0m, in \u001b[0;36mIncrementalDecoder.decode\u001b[1;34m(self, input, final)\u001b[0m\n\u001b[0;32m     22\u001b[0m \u001b[38;5;28;01mdef\u001b[39;00m \u001b[38;5;21mdecode\u001b[39m(\u001b[38;5;28mself\u001b[39m, \u001b[38;5;28minput\u001b[39m, final\u001b[38;5;241m=\u001b[39m\u001b[38;5;28;01mFalse\u001b[39;00m):\n\u001b[1;32m---> 23\u001b[0m     \u001b[38;5;28;01mreturn\u001b[39;00m \u001b[43mcodecs\u001b[49m\u001b[38;5;241;43m.\u001b[39;49m\u001b[43mcharmap_decode\u001b[49m\u001b[43m(\u001b[49m\u001b[38;5;28;43minput\u001b[39;49m\u001b[43m,\u001b[49m\u001b[38;5;28;43mself\u001b[39;49m\u001b[38;5;241;43m.\u001b[39;49m\u001b[43merrors\u001b[49m\u001b[43m,\u001b[49m\u001b[43mdecoding_table\u001b[49m\u001b[43m)\u001b[49m[\u001b[38;5;241m0\u001b[39m]\n",
      "\u001b[1;31mUnicodeDecodeError\u001b[0m: 'charmap' codec can't decode byte 0x8d in position 3084: character maps to <undefined>"
     ]
    }
   ],
   "source": [
    "import pandas as pd\n",
    "import csv,json\n",
    "data=pd.read_csv(\"dataset.csv\")\n",
    "print(data)\n",
    "print(\"Converted JSON file below :\")\n",
    "print (json.dumps(list(csv.reader(open('dataset.csv')))))\n",
    "\n",
    "#Tahir365"
   ]
  },
  {
   "cell_type": "code",
   "execution_count": null,
   "id": "f7c1d13e",
   "metadata": {},
   "outputs": [],
   "source": []
  }
 ],
 "metadata": {
  "kernelspec": {
   "display_name": "Python 3 (ipykernel)",
   "language": "python",
   "name": "python3"
  },
  "language_info": {
   "codemirror_mode": {
    "name": "ipython",
    "version": 3
   },
   "file_extension": ".py",
   "mimetype": "text/x-python",
   "name": "python",
   "nbconvert_exporter": "python",
   "pygments_lexer": "ipython3",
   "version": "3.10.8"
  }
 },
 "nbformat": 4,
 "nbformat_minor": 5
}
