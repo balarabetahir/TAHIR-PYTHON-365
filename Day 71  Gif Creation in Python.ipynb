{
 "cells": [
  {
   "cell_type": "code",
   "execution_count": 11,
   "id": "72055c12",
   "metadata": {},
   "outputs": [],
   "source": [
    "import imageio\n",
    "filenames = [\"python.png\", \"instagram1.png\"]\n",
    "images = []\n",
    "for filename in filenames:\n",
    "    images.append(imageio.v2.imread(filename))\n",
    "imageio.v2.mimsave('movie.gif', images,'GIF',duration=1)\n",
    "\n",
    "#Tahir365"
   ]
  },
  {
   "cell_type": "code",
   "execution_count": null,
   "id": "45bfd8d8",
   "metadata": {},
   "outputs": [],
   "source": []
  }
 ],
 "metadata": {
  "kernelspec": {
   "display_name": "Python 3 (ipykernel)",
   "language": "python",
   "name": "python3"
  },
  "language_info": {
   "codemirror_mode": {
    "name": "ipython",
    "version": 3
   },
   "file_extension": ".py",
   "mimetype": "text/x-python",
   "name": "python",
   "nbconvert_exporter": "python",
   "pygments_lexer": "ipython3",
   "version": "3.10.8"
  }
 },
 "nbformat": 4,
 "nbformat_minor": 5
}
