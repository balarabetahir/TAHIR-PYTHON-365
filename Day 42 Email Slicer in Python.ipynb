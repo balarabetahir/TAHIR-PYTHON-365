{
 "cells": [
  {
   "cell_type": "code",
   "execution_count": 3,
   "id": "d9097e2c",
   "metadata": {},
   "outputs": [
    {
     "name": "stdout",
     "output_type": "stream",
     "text": [
      "Enter Your Email: tahirgroot@gmail.com\n",
      "Your user name is  tahirgroot and your domain is  gmail.com\n"
     ]
    }
   ],
   "source": [
    "#Ask to enter any email\n",
    "email = input(\"Enter Your Email: \")\n",
    "\n",
    "#remove any unnecessary white spaces\n",
    "email=email.strip()\n",
    "\n",
    "#Get the index of @\n",
    "slicer_index=email.index(\"@\")\n",
    "\n",
    "#fetch the user name by string slicing\n",
    "username = email[:slicer_index]\n",
    "\n",
    "#fetch the domain name by string slicing\n",
    "domain_name = email[slicer_index+1:]\n",
    "\n",
    "#print the result separately\n",
    "print(\"Your user name is \", username, \"and your domain is \", domain_name)\n",
    "\n",
    "#Tahir365\n"
   ]
  },
  {
   "cell_type": "code",
   "execution_count": null,
   "id": "c83433de",
   "metadata": {},
   "outputs": [],
   "source": []
  }
 ],
 "metadata": {
  "kernelspec": {
   "display_name": "Python 3 (ipykernel)",
   "language": "python",
   "name": "python3"
  },
  "language_info": {
   "codemirror_mode": {
    "name": "ipython",
    "version": 3
   },
   "file_extension": ".py",
   "mimetype": "text/x-python",
   "name": "python",
   "nbconvert_exporter": "python",
   "pygments_lexer": "ipython3",
   "version": "3.10.7"
  }
 },
 "nbformat": 4,
 "nbformat_minor": 5
}
