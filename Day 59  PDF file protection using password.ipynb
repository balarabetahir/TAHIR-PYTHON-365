{
 "cells": [
  {
   "cell_type": "code",
   "execution_count": 7,
   "id": "09d8aeac",
   "metadata": {},
   "outputs": [
    {
     "ename": "NameError",
     "evalue": "name 'PdfFilewriter' is not defined",
     "output_type": "error",
     "traceback": [
      "\u001b[1;31m---------------------------------------------------------------------------\u001b[0m",
      "\u001b[1;31mNameError\u001b[0m                                 Traceback (most recent call last)",
      "Cell \u001b[1;32mIn [7], line 4\u001b[0m\n\u001b[0;32m      2\u001b[0m \u001b[38;5;28;01mfrom\u001b[39;00m \u001b[38;5;21;01mPyPDF2\u001b[39;00m \u001b[38;5;28;01mimport\u001b[39;00m PdfFileWriter, PdfFileReader\n\u001b[0;32m      3\u001b[0m \u001b[38;5;28;01mimport\u001b[39;00m \u001b[38;5;21;01mgetpass\u001b[39;00m\n\u001b[1;32m----> 4\u001b[0m pdfwriter\u001b[38;5;241m=\u001b[39mPdfFilewriter()\n\u001b[0;32m      5\u001b[0m pdf\u001b[38;5;241m=\u001b[39mPdfFileReader(\u001b[38;5;124mr\u001b[39m\u001b[38;5;124m\"\u001b[39m\u001b[38;5;124mC:\u001b[39m\u001b[38;5;124m\\\u001b[39m\u001b[38;5;124mBAT.pdf\u001b[39m\u001b[38;5;124m\"\u001b[39m)\n\u001b[0;32m      6\u001b[0m \u001b[38;5;28;01mfor\u001b[39;00m page_num \u001b[38;5;129;01min\u001b[39;00m \u001b[38;5;28mrange\u001b[39m(pdf\u001b[38;5;241m.\u001b[39mnumPages):\n",
      "\u001b[1;31mNameError\u001b[0m: name 'PdfFilewriter' is not defined"
     ]
    }
   ],
   "source": [
    "#pip install PyPDF2\n",
    "from PyPDF2 import PdfFileWriter, PdfFileReader\n",
    "import getpass\n",
    "pdfwriter=PdfFileWriter()\n",
    "pdf=PdfFileReader(r\"C:\\BAT.pdf\")\n",
    "for page_num in range(pdf.numPages):\n",
    "    pdfwriter.addpage(pdf.getPage(page_num))\n",
    "password=getpass.getpass(prompt='Enter Passwod:  ')\n",
    "pdfwriter.encrypt(password)\n",
    "with open(r\"C:\\BAT.pdf\", 'wb') as f:\n",
    "   pdfwriter.write(f)\n",
    "\n",
    "print(\"Now file is password protected\")\n",
    "\n",
    "\n",
    "#Tahir365\n"
   ]
  },
  {
   "cell_type": "code",
   "execution_count": null,
   "id": "59b7ce1b",
   "metadata": {},
   "outputs": [],
   "source": []
  }
 ],
 "metadata": {
  "kernelspec": {
   "display_name": "Python 3 (ipykernel)",
   "language": "python",
   "name": "python3"
  },
  "language_info": {
   "codemirror_mode": {
    "name": "ipython",
    "version": 3
   },
   "file_extension": ".py",
   "mimetype": "text/x-python",
   "name": "python",
   "nbconvert_exporter": "python",
   "pygments_lexer": "ipython3",
   "version": "3.10.8"
  }
 },
 "nbformat": 4,
 "nbformat_minor": 5
}
