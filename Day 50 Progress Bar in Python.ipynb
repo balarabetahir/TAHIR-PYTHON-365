{
 "cells": [
  {
   "cell_type": "code",
   "execution_count": 1,
   "id": "240206f2",
   "metadata": {},
   "outputs": [
    {
     "name": "stdout",
     "output_type": "stream",
     "text": [
      "[======================================================------] 90.0% ...\r"
     ]
    }
   ],
   "source": [
    "import sys, time\n",
    "\n",
    "def progressBar(count, total, suffix=''):\n",
    "    barLength = 60\n",
    "    filledLength = int(round(barLength * count / float(total)))\n",
    "    \n",
    "    percent = round(100.0 * count / float(total), 1)\n",
    "    bar = '=' * filledLength + '-' *(barLength - filledLength)\n",
    "    \n",
    "    sys.stdout.write('[%s] %s%s ...%s\\r' % (bar, percent, '%', suffix))\n",
    "    sys.stdout.flush()\n",
    "    \n",
    "    \n",
    "for i in range(10):\n",
    "    time.sleep(1)\n",
    "    progressBar(i,10)\n",
    "    \n",
    "    #Tahir365"
   ]
  },
  {
   "cell_type": "code",
   "execution_count": null,
   "id": "3da4df06",
   "metadata": {},
   "outputs": [],
   "source": []
  }
 ],
 "metadata": {
  "kernelspec": {
   "display_name": "Python 3 (ipykernel)",
   "language": "python",
   "name": "python3"
  },
  "language_info": {
   "codemirror_mode": {
    "name": "ipython",
    "version": 3
   },
   "file_extension": ".py",
   "mimetype": "text/x-python",
   "name": "python",
   "nbconvert_exporter": "python",
   "pygments_lexer": "ipython3",
   "version": "3.10.7"
  }
 },
 "nbformat": 4,
 "nbformat_minor": 5
}
